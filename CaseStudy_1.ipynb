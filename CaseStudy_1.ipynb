{
 "cells": [
  {
   "cell_type": "code",
   "execution_count": 1,
   "id": "e1552532",
   "metadata": {},
   "outputs": [],
   "source": [
    "import warnings\n",
    "warnings.filterwarnings(\"ignore\")\n",
    "\n",
    "import pandas as pd\n",
    "import numpy as np\n",
    "import matplotlib.pyplot as plt\n",
    "import seaborn as sns\n",
    "from sklearn.model_selection import train_test_split"
   ]
  },
  {
   "cell_type": "code",
   "execution_count": 2,
   "id": "3b2b6bba",
   "metadata": {},
   "outputs": [],
   "source": [
    "dataset = pd.read_csv(\"hour.csv\")"
   ]
  },
  {
   "cell_type": "markdown",
   "id": "a5695fb9",
   "metadata": {},
   "source": [
    "---"
   ]
  },
  {
   "cell_type": "markdown",
   "id": "c4fc9cb5",
   "metadata": {},
   "source": [
    "Exploratory Data Analysis"
   ]
  },
  {
   "cell_type": "code",
   "execution_count": 3,
   "id": "594c4fc7",
   "metadata": {
    "scrolled": true
   },
   "outputs": [
    {
     "data": {
      "text/html": [
       "<div>\n",
       "<style scoped>\n",
       "    .dataframe tbody tr th:only-of-type {\n",
       "        vertical-align: middle;\n",
       "    }\n",
       "\n",
       "    .dataframe tbody tr th {\n",
       "        vertical-align: top;\n",
       "    }\n",
       "\n",
       "    .dataframe thead th {\n",
       "        text-align: right;\n",
       "    }\n",
       "</style>\n",
       "<table border=\"1\" class=\"dataframe\">\n",
       "  <thead>\n",
       "    <tr style=\"text-align: right;\">\n",
       "      <th></th>\n",
       "      <th>instant</th>\n",
       "      <th>dteday</th>\n",
       "      <th>season</th>\n",
       "      <th>yr</th>\n",
       "      <th>mnth</th>\n",
       "      <th>hr</th>\n",
       "      <th>holiday</th>\n",
       "      <th>weekday</th>\n",
       "      <th>workingday</th>\n",
       "      <th>weathersit</th>\n",
       "      <th>temp</th>\n",
       "      <th>atemp</th>\n",
       "      <th>hum</th>\n",
       "      <th>windspeed</th>\n",
       "      <th>casual</th>\n",
       "      <th>registered</th>\n",
       "      <th>cnt</th>\n",
       "    </tr>\n",
       "  </thead>\n",
       "  <tbody>\n",
       "    <tr>\n",
       "      <th>0</th>\n",
       "      <td>1</td>\n",
       "      <td>2011-01-01</td>\n",
       "      <td>1</td>\n",
       "      <td>0</td>\n",
       "      <td>1</td>\n",
       "      <td>0</td>\n",
       "      <td>0</td>\n",
       "      <td>6</td>\n",
       "      <td>0</td>\n",
       "      <td>1</td>\n",
       "      <td>0.24</td>\n",
       "      <td>0.2879</td>\n",
       "      <td>0.81</td>\n",
       "      <td>0.0</td>\n",
       "      <td>3</td>\n",
       "      <td>13</td>\n",
       "      <td>16</td>\n",
       "    </tr>\n",
       "    <tr>\n",
       "      <th>1</th>\n",
       "      <td>2</td>\n",
       "      <td>2011-01-01</td>\n",
       "      <td>1</td>\n",
       "      <td>0</td>\n",
       "      <td>1</td>\n",
       "      <td>1</td>\n",
       "      <td>0</td>\n",
       "      <td>6</td>\n",
       "      <td>0</td>\n",
       "      <td>1</td>\n",
       "      <td>0.22</td>\n",
       "      <td>0.2727</td>\n",
       "      <td>0.80</td>\n",
       "      <td>0.0</td>\n",
       "      <td>8</td>\n",
       "      <td>32</td>\n",
       "      <td>40</td>\n",
       "    </tr>\n",
       "    <tr>\n",
       "      <th>2</th>\n",
       "      <td>3</td>\n",
       "      <td>2011-01-01</td>\n",
       "      <td>1</td>\n",
       "      <td>0</td>\n",
       "      <td>1</td>\n",
       "      <td>2</td>\n",
       "      <td>0</td>\n",
       "      <td>6</td>\n",
       "      <td>0</td>\n",
       "      <td>1</td>\n",
       "      <td>0.22</td>\n",
       "      <td>0.2727</td>\n",
       "      <td>0.80</td>\n",
       "      <td>0.0</td>\n",
       "      <td>5</td>\n",
       "      <td>27</td>\n",
       "      <td>32</td>\n",
       "    </tr>\n",
       "    <tr>\n",
       "      <th>3</th>\n",
       "      <td>4</td>\n",
       "      <td>2011-01-01</td>\n",
       "      <td>1</td>\n",
       "      <td>0</td>\n",
       "      <td>1</td>\n",
       "      <td>3</td>\n",
       "      <td>0</td>\n",
       "      <td>6</td>\n",
       "      <td>0</td>\n",
       "      <td>1</td>\n",
       "      <td>0.24</td>\n",
       "      <td>0.2879</td>\n",
       "      <td>0.75</td>\n",
       "      <td>0.0</td>\n",
       "      <td>3</td>\n",
       "      <td>10</td>\n",
       "      <td>13</td>\n",
       "    </tr>\n",
       "    <tr>\n",
       "      <th>4</th>\n",
       "      <td>5</td>\n",
       "      <td>2011-01-01</td>\n",
       "      <td>1</td>\n",
       "      <td>0</td>\n",
       "      <td>1</td>\n",
       "      <td>4</td>\n",
       "      <td>0</td>\n",
       "      <td>6</td>\n",
       "      <td>0</td>\n",
       "      <td>1</td>\n",
       "      <td>0.24</td>\n",
       "      <td>0.2879</td>\n",
       "      <td>0.75</td>\n",
       "      <td>0.0</td>\n",
       "      <td>0</td>\n",
       "      <td>1</td>\n",
       "      <td>1</td>\n",
       "    </tr>\n",
       "  </tbody>\n",
       "</table>\n",
       "</div>"
      ],
      "text/plain": [
       "   instant      dteday  season  yr  mnth  hr  holiday  weekday  workingday  \\\n",
       "0        1  2011-01-01       1   0     1   0        0        6           0   \n",
       "1        2  2011-01-01       1   0     1   1        0        6           0   \n",
       "2        3  2011-01-01       1   0     1   2        0        6           0   \n",
       "3        4  2011-01-01       1   0     1   3        0        6           0   \n",
       "4        5  2011-01-01       1   0     1   4        0        6           0   \n",
       "\n",
       "   weathersit  temp   atemp   hum  windspeed  casual  registered  cnt  \n",
       "0           1  0.24  0.2879  0.81        0.0       3          13   16  \n",
       "1           1  0.22  0.2727  0.80        0.0       8          32   40  \n",
       "2           1  0.22  0.2727  0.80        0.0       5          27   32  \n",
       "3           1  0.24  0.2879  0.75        0.0       3          10   13  \n",
       "4           1  0.24  0.2879  0.75        0.0       0           1    1  "
      ]
     },
     "execution_count": 3,
     "metadata": {},
     "output_type": "execute_result"
    }
   ],
   "source": [
    "# Display first 5 records \n",
    "dataset.head()"
   ]
  },
  {
   "cell_type": "code",
   "execution_count": null,
   "id": "430e32a0",
   "metadata": {},
   "outputs": [],
   "source": [
    "# Info about columns, type of data \n",
    "dataset.info()"
   ]
  },
  {
   "cell_type": "code",
   "execution_count": null,
   "id": "f4711370",
   "metadata": {},
   "outputs": [],
   "source": [
    "# Getting various statistical data like Mean, Standard Deviation, Median, Max Value, Min Value (excludes categorical vars)\n",
    "dataset.describe()"
   ]
  },
  {
   "cell_type": "code",
   "execution_count": null,
   "id": "245d17bb",
   "metadata": {},
   "outputs": [],
   "source": [
    "# Checking if columns have null values, if null- we replace with mean/median or simply drop these entries\n",
    "dataset.isnull().sum()"
   ]
  },
  {
   "cell_type": "code",
   "execution_count": null,
   "id": "a59bb606",
   "metadata": {},
   "outputs": [],
   "source": [
    "# Get the count of zeros in column 'cnt'  \n",
    "column = dataset['cnt'] \n",
    "count = column[column == 0].count()\n",
    "print('Count of zeros in cnt : ', count)"
   ]
  },
  {
   "cell_type": "code",
   "execution_count": null,
   "id": "e1a27b16",
   "metadata": {},
   "outputs": [],
   "source": [
    "# Checking correlation between variables (including target var to identify how features affect it) \n",
    "dataset.corr()"
   ]
  },
  {
   "cell_type": "markdown",
   "id": "d9c4f09b",
   "metadata": {},
   "source": [
    "---"
   ]
  },
  {
   "cell_type": "markdown",
   "id": "90c5acc9",
   "metadata": {},
   "source": [
    "Univariate Analysis"
   ]
  },
  {
   "cell_type": "code",
   "execution_count": null,
   "id": "29c25083",
   "metadata": {},
   "outputs": [],
   "source": [
    "# Relationship between Temperation and Count\n",
    "sns.lineplot(x='temp', y='cnt', data=dataset).set(xlabel=\"Temperature\", ylabel=\"Total Bikes Rented\")"
   ]
  },
  {
   "cell_type": "code",
   "execution_count": null,
   "id": "f97c7256",
   "metadata": {},
   "outputs": [],
   "source": [
    "# Relationship between Humidity and Count\n",
    "sns.lineplot(x='hum', y='cnt', data=dataset).set(xlabel=\"Humidity\", ylabel=\"Total Bikes Rented\")"
   ]
  },
  {
   "cell_type": "code",
   "execution_count": null,
   "id": "65c07e1a",
   "metadata": {},
   "outputs": [],
   "source": [
    "# Count of bikes rented per season\n",
    "sns.countplot(x='season', data=dataset).set(xlabel=\"Season\", ylabel=\"Total Bikes Rented\")\n",
    "dataset['season'].value_counts()"
   ]
  },
  {
   "cell_type": "code",
   "execution_count": null,
   "id": "d485ad6b",
   "metadata": {},
   "outputs": [],
   "source": [
    "# Count of bikes rented per year(2011, 2012)\n",
    "sns.violinplot(x='yr', y='cnt', data=dataset).set(xlabel=\"Year\", ylabel=\"Total Bikes Rented\")\n",
    "dataset['yr'].value_counts()"
   ]
  },
  {
   "cell_type": "code",
   "execution_count": null,
   "id": "0cdd6d20",
   "metadata": {},
   "outputs": [],
   "source": [
    "# Count of bikes rented per month\n",
    "plt.figure(figsize = (12,8))\n",
    "sns.barplot(x='mnth', y='cnt', data=dataset).set(xlabel=\"Month\", ylabel=\"Total Bikes Rented\")"
   ]
  },
  {
   "cell_type": "markdown",
   "id": "4aeef62b",
   "metadata": {},
   "source": [
    "---"
   ]
  },
  {
   "cell_type": "markdown",
   "id": "cf43fafb",
   "metadata": {},
   "source": [
    "Bivariate Analysis"
   ]
  },
  {
   "cell_type": "code",
   "execution_count": null,
   "id": "b7c24299",
   "metadata": {},
   "outputs": [],
   "source": [
    "# Bikes Rented vs Weather Condition with respect to the year\n",
    "sns.barplot(x=\"weathersit\", y=\"cnt\", hue=\"yr\", data=dataset).set(xlabel=\"Weather Condition\", ylabel=\"Total Bikes Rented\")\n",
    "# how to get count of bikes in each category and year??"
   ]
  },
  {
   "cell_type": "code",
   "execution_count": null,
   "id": "9f04565a",
   "metadata": {},
   "outputs": [],
   "source": [
    "# Bikes Rented vs Month with respect to the season\n",
    "plt.figure(figsize = (12,8))\n",
    "sns.barplot(x=\"workingday\", y=\"cnt\", hue=\"season\", data=dataset).set(xlabel=\"Working Day\", ylabel=\"Total Bikes Rented\")"
   ]
  },
  {
   "cell_type": "code",
   "execution_count": null,
   "id": "f804aef3",
   "metadata": {},
   "outputs": [],
   "source": [
    "# Bikes rented per hour with respect to a season\n",
    "plt.figure(figsize = (12,8))\n",
    "sns.pointplot(x=\"hr\", y=\"cnt\", hue=\"season\", data=dataset).set(xlabel=\"Hour\", ylabel=\"Total Bikes Rented\")"
   ]
  },
  {
   "cell_type": "markdown",
   "id": "dde0327e",
   "metadata": {},
   "source": [
    "- Peaks can be seen at around 8am and 5pm (office hours)"
   ]
  },
  {
   "cell_type": "markdown",
   "id": "68556533",
   "metadata": {},
   "source": [
    "---"
   ]
  },
  {
   "cell_type": "markdown",
   "id": "80e1efb3",
   "metadata": {},
   "source": [
    "Outlier Analysis"
   ]
  },
  {
   "cell_type": "code",
   "execution_count": null,
   "id": "8f8a6d4c",
   "metadata": {},
   "outputs": [],
   "source": [
    "# Outlier Analysis for month\n",
    "plt.figure(figsize = (20,8))\n",
    "sns.boxplot(data=dataset[['mnth', 'cnt']], x='mnth', y='cnt').set(xlabel=\"Month\", ylabel=\"Total Bikes Rented\")"
   ]
  },
  {
   "cell_type": "code",
   "execution_count": null,
   "id": "8e54899f",
   "metadata": {},
   "outputs": [],
   "source": [
    "# Outlier Analysis for hours\n",
    "plt.figure(figsize = (20,8))\n",
    "sns.boxplot(data=dataset[['hr', 'cnt']], x='hr', y='cnt').set(xlabel=\"Hour\", ylabel=\"Total Bikes Rented\")"
   ]
  },
  {
   "cell_type": "code",
   "execution_count": null,
   "id": "f2dac286",
   "metadata": {},
   "outputs": [],
   "source": [
    "# Outlier Analysis for cnt\n",
    "plt.figure(figsize = (8,6))\n",
    "sns.boxplot(data=dataset[['cnt']], y='cnt').set(ylabel=\"Total Bikes Rented\")"
   ]
  },
  {
   "cell_type": "code",
   "execution_count": null,
   "id": "3117326f",
   "metadata": {},
   "outputs": [],
   "source": [
    "# calculate interquartile range\n",
    "q25, q75 = np.percentile(dataset['cnt'], 25), np.percentile(dataset['cnt'], 75)\n",
    "iqr = q75 - q25\n",
    "print(\"Interquartile Range\", iqr)\n",
    "\n",
    "# calculate the outlier cutoff\n",
    "cut_off = iqr * 1.5\n",
    "lower = q25 - cut_off\n",
    "upper = 600"
   ]
  },
  {
   "cell_type": "code",
   "execution_count": null,
   "id": "e0d55161",
   "metadata": {},
   "outputs": [],
   "source": [
    "# identify outliers\n",
    "outliers = [x for x in dataset['cnt'] if x < lower or x > upper]\n",
    "print('Identified outliers: %d' % len(outliers))"
   ]
  },
  {
   "cell_type": "code",
   "execution_count": null,
   "id": "2e258dbf",
   "metadata": {},
   "outputs": [],
   "source": [
    "dataset[(dataset['cnt'] < lower) | (dataset['cnt'] > upper)]"
   ]
  },
  {
   "cell_type": "code",
   "execution_count": null,
   "id": "5bfdb164",
   "metadata": {},
   "outputs": [],
   "source": [
    "# Removing the Outliers\n",
    "dataset = dataset[(dataset['cnt'] > lower) & (dataset['cnt'] < upper)]\n",
    "\n",
    "dataset.head()"
   ]
  },
  {
   "cell_type": "code",
   "execution_count": null,
   "id": "d9d4536c",
   "metadata": {},
   "outputs": [],
   "source": [
    "len(dataset.index)"
   ]
  },
  {
   "cell_type": "code",
   "execution_count": null,
   "id": "544ded4c",
   "metadata": {},
   "outputs": [],
   "source": [
    "# Outlier Analysis for cnt\n",
    "plt.figure(figsize = (8,6))\n",
    "sns.boxplot(data=dataset[['cnt']], y='cnt').set(ylabel=\"Total Bikes Rented\")"
   ]
  },
  {
   "cell_type": "markdown",
   "id": "87897e91",
   "metadata": {},
   "source": [
    "---"
   ]
  },
  {
   "cell_type": "markdown",
   "id": "e46dfc4d",
   "metadata": {},
   "source": [
    "Feature Transformation"
   ]
  },
  {
   "cell_type": "code",
   "execution_count": null,
   "id": "82c90eaf",
   "metadata": {},
   "outputs": [],
   "source": [
    "# Before dropping date, let us introduce a days_old variable which indicates how old is the business\n",
    "dataset['days_old'] = (pd.to_datetime(dataset['dteday'],format= '%Y-%m-%d') - pd.to_datetime('2011-01-01',format= '%Y-%m-%d')).dt.days"
   ]
  },
  {
   "cell_type": "code",
   "execution_count": null,
   "id": "c435eccc",
   "metadata": {},
   "outputs": [],
   "source": [
    "dataset.tail()"
   ]
  },
  {
   "cell_type": "code",
   "execution_count": null,
   "id": "5b7b4137",
   "metadata": {},
   "outputs": [],
   "source": [
    "# Dropping instant, dteday, casual, registered\n",
    "dataset = dataset.drop(['instant', 'dteday', 'casual', 'registered'], axis=1)"
   ]
  },
  {
   "cell_type": "code",
   "execution_count": null,
   "id": "2d0ad4d5",
   "metadata": {},
   "outputs": [],
   "source": [
    "# Convert season, weathersit, weekday and month to categorical data\n",
    "dataset.season = dataset.season.replace({1:\"spring\", 2:\"summer\", 3:\"fall\", 4:\"winter\"})\n",
    "\n",
    "dataset.weathersit = dataset.weathersit.replace({1:'good',2:'moderate',3:'bad',4:'severe'})\n",
    "\n",
    "dataset.mnth = dataset.mnth.replace({1: 'jan',2: 'feb',3: 'mar',4: 'apr',5: 'may',6: 'jun',\n",
    "                  7: 'jul',8: 'aug',9: 'sept',10: 'oct',11: 'nov',12: 'dec'})\n",
    "\n",
    "dataset.weekday = dataset.weekday.replace({0: 'sun',1: 'mon',2: 'tue',3: 'wed',4: 'thu',5: 'fri',6: 'sat'})"
   ]
  },
  {
   "cell_type": "code",
   "execution_count": null,
   "id": "74b1ba0f",
   "metadata": {},
   "outputs": [],
   "source": [
    "dataset.head()"
   ]
  },
  {
   "cell_type": "code",
   "execution_count": null,
   "id": "958b8ee8",
   "metadata": {},
   "outputs": [],
   "source": [
    "dataset.tail()"
   ]
  },
  {
   "cell_type": "code",
   "execution_count": null,
   "id": "c72e4987",
   "metadata": {},
   "outputs": [],
   "source": [
    "# One-hot encoding season, mnth, weekday, weathersit\n",
    "\n",
    "dataset = pd.get_dummies(data=dataset,columns=[\"season\",\"mnth\",\"weekday\", \"weathersit\"])"
   ]
  },
  {
   "cell_type": "code",
   "execution_count": null,
   "id": "7ce513b5",
   "metadata": {},
   "outputs": [],
   "source": [
    "dataset.head()"
   ]
  },
  {
   "cell_type": "code",
   "execution_count": null,
   "id": "a6007a60",
   "metadata": {},
   "outputs": [],
   "source": [
    "dataset.tail()"
   ]
  },
  {
   "cell_type": "markdown",
   "id": "a32f1895",
   "metadata": {},
   "source": [
    "---"
   ]
  },
  {
   "cell_type": "markdown",
   "id": "457fcad2",
   "metadata": {},
   "source": [
    "Model Development"
   ]
  },
  {
   "cell_type": "code",
   "execution_count": null,
   "id": "eb06750b",
   "metadata": {},
   "outputs": [],
   "source": [
    "working_dt = dataset"
   ]
  },
  {
   "cell_type": "code",
   "execution_count": null,
   "id": "fffb8e47",
   "metadata": {},
   "outputs": [],
   "source": [
    "y = working_dt.pop('cnt')\n",
    "y.head()"
   ]
  },
  {
   "cell_type": "code",
   "execution_count": null,
   "id": "bd4f773b",
   "metadata": {},
   "outputs": [],
   "source": [
    "X = working_dt\n",
    "X.head()"
   ]
  },
  {
   "cell_type": "code",
   "execution_count": null,
   "id": "b0c7fdc1",
   "metadata": {},
   "outputs": [],
   "source": [
    "# Train-Test Split\n",
    "X_train, X_test, y_train, y_test = train_test_split(X, y, test_size=0.2, random_state=42)"
   ]
  },
  {
   "cell_type": "code",
   "execution_count": null,
   "id": "6d9977d5",
   "metadata": {},
   "outputs": [],
   "source": [
    "X_train.head()"
   ]
  },
  {
   "cell_type": "code",
   "execution_count": null,
   "id": "00c2399e",
   "metadata": {},
   "outputs": [],
   "source": [
    "X_test.head()"
   ]
  },
  {
   "cell_type": "code",
   "execution_count": null,
   "id": "fffd1030",
   "metadata": {},
   "outputs": [],
   "source": [
    "y_train.head()"
   ]
  },
  {
   "cell_type": "code",
   "execution_count": null,
   "id": "d3232bae",
   "metadata": {},
   "outputs": [],
   "source": [
    "y_test.head()"
   ]
  },
  {
   "cell_type": "code",
   "execution_count": null,
   "id": "0fdef812",
   "metadata": {},
   "outputs": [],
   "source": [
    "import statsmodels.api as sm\n",
    "from statsmodels.stats.outliers_influence import variance_inflation_factor"
   ]
  },
  {
   "cell_type": "code",
   "execution_count": null,
   "id": "590db606",
   "metadata": {},
   "outputs": [],
   "source": [
    "# Function to build OLS model with columns as an input \n",
    "\n",
    "def build_ols_model(cols):\n",
    "    # adding the constant term\n",
    "    X_const = sm.add_constant(X_train[cols])\n",
    "    # performing the regression and fitting the model\n",
    "    result = sm.OLS(y_train, X_const).fit()\n",
    "    # printing result\n",
    "    print(result.summary())"
   ]
  },
  {
   "cell_type": "code",
   "execution_count": null,
   "id": "8312bec7",
   "metadata": {},
   "outputs": [],
   "source": [
    "# Function to plot color scaled correlation matrix (Checking Multicollinearity)\n",
    "def compute_correlation(cols):\n",
    "    plt.figure(figsize = (15,10))\n",
    "    corr = X[cols].corr()\n",
    "    sns.heatmap(corr, cmap='GnBu', annot=True)\n",
    "    plt.show()"
   ]
  },
  {
   "cell_type": "code",
   "execution_count": null,
   "id": "c4bb5c51",
   "metadata": {},
   "outputs": [],
   "source": [
    "# Function Compute VIF data for each independent variable in the X_const set (Checking Multicollinearity)\n",
    "\n",
    "def compute_vif(cols):\n",
    "    vif = pd.DataFrame()\n",
    "    vif[\"features\"] = X_train[cols].columns\n",
    "    vif[\"vif_Factor\"] = [variance_inflation_factor(X_train[cols].values, i) for i in range(X_train[cols].shape[1])]\n",
    "    print(vif.sort_values(by='vif_Factor', ascending = False))"
   ]
  },
  {
   "cell_type": "markdown",
   "id": "c25db206",
   "metadata": {},
   "source": [
    "---"
   ]
  },
  {
   "cell_type": "markdown",
   "id": "c424783a",
   "metadata": {},
   "source": [
    "Model Number 1: Taking all independent features\n",
    "\n"
   ]
  },
  {
   "cell_type": "code",
   "execution_count": null,
   "id": "88e4a17a",
   "metadata": {},
   "outputs": [],
   "source": [
    "cols = X_train.columns\n",
    "print(cols)"
   ]
  },
  {
   "cell_type": "code",
   "execution_count": null,
   "id": "2f2a3a02",
   "metadata": {},
   "outputs": [],
   "source": [
    "# Build OLS model 1\n",
    "build_ols_model(cols)"
   ]
  },
  {
   "cell_type": "code",
   "execution_count": null,
   "id": "76fc8927",
   "metadata": {},
   "outputs": [],
   "source": [
    "# Compute correlation matrix for model 1\n",
    "compute_correlation(cols)"
   ]
  },
  {
   "cell_type": "code",
   "execution_count": null,
   "id": "f4571623",
   "metadata": {},
   "outputs": [],
   "source": [
    "# Compute Vif for model 1\n",
    "compute_vif(cols)"
   ]
  },
  {
   "cell_type": "markdown",
   "id": "0423a3bd",
   "metadata": {},
   "source": [
    "---"
   ]
  },
  {
   "cell_type": "code",
   "execution_count": null,
   "id": "243e22a9",
   "metadata": {},
   "outputs": [],
   "source": [
    "# Using RFE (Recursive Feature Extraction) to select best 15 features\n",
    "\n",
    "from sklearn.linear_model import LinearRegression\n",
    "from sklearn.feature_selection import RFE\n",
    "\n",
    "lr = LinearRegression()\n",
    "lr.fit(X_train, y_train)\n",
    "\n",
    "rfe = RFE(lr, 21)\n",
    "rfe.fit(X_train, y_train)"
   ]
  },
  {
   "cell_type": "code",
   "execution_count": null,
   "id": "999ea1e3",
   "metadata": {},
   "outputs": [],
   "source": [
    "# Features selected by RFE\n",
    "X_train.columns[rfe.support_]"
   ]
  },
  {
   "cell_type": "markdown",
   "id": "e0f0a140",
   "metadata": {},
   "source": [
    "---"
   ]
  },
  {
   "cell_type": "markdown",
   "id": "cb3a8c87",
   "metadata": {},
   "source": [
    "Model 2: Taking features selected by RFE"
   ]
  },
  {
   "cell_type": "code",
   "execution_count": null,
   "id": "746a885d",
   "metadata": {},
   "outputs": [],
   "source": [
    "cols = X_train.columns[rfe.support_]\n",
    "print(cols)"
   ]
  },
  {
   "cell_type": "code",
   "execution_count": null,
   "id": "5a2f0074",
   "metadata": {},
   "outputs": [],
   "source": [
    "# Build OLS model 2\n",
    "build_ols_model(cols)"
   ]
  },
  {
   "cell_type": "code",
   "execution_count": null,
   "id": "ce930b5b",
   "metadata": {},
   "outputs": [],
   "source": [
    "# Compute correlation matrix for model 2\n",
    "compute_correlation(cols)"
   ]
  },
  {
   "cell_type": "code",
   "execution_count": null,
   "id": "df13001f",
   "metadata": {},
   "outputs": [],
   "source": [
    "# Compute Vif for model 2\n",
    "compute_vif(cols)"
   ]
  },
  {
   "cell_type": "markdown",
   "id": "9f696ac5",
   "metadata": {},
   "source": [
    "---"
   ]
  },
  {
   "cell_type": "markdown",
   "id": "b8932dcb",
   "metadata": {},
   "source": [
    "Model 3: Dropping atemp"
   ]
  },
  {
   "cell_type": "code",
   "execution_count": null,
   "id": "f640f5a3",
   "metadata": {},
   "outputs": [],
   "source": [
    "cols = ['yr', 'holiday', 'temp', 'hum', 'windspeed', 'season_spring',\n",
    "       'season_winter', 'mnth_aug', 'mnth_dec', 'mnth_feb', 'mnth_jan',\n",
    "       'mnth_jul', 'mnth_jun', 'weathersit_severe']\n",
    "print(cols)"
   ]
  },
  {
   "cell_type": "code",
   "execution_count": null,
   "id": "a762903e",
   "metadata": {},
   "outputs": [],
   "source": [
    "# Build OLS model 3\n",
    "build_ols_model(cols)"
   ]
  },
  {
   "cell_type": "code",
   "execution_count": null,
   "id": "dadd55bf",
   "metadata": {},
   "outputs": [],
   "source": [
    "# Compute correlation matrix for model 3\n",
    "compute_correlation(cols)"
   ]
  },
  {
   "cell_type": "code",
   "execution_count": null,
   "id": "b756a51f",
   "metadata": {},
   "outputs": [],
   "source": [
    "# Compute Vif for model 3\n",
    "compute_vif(cols)"
   ]
  },
  {
   "cell_type": "markdown",
   "id": "3eb8e075",
   "metadata": {},
   "source": [
    "---"
   ]
  },
  {
   "cell_type": "markdown",
   "id": "bafd8363",
   "metadata": {},
   "source": [
    "Model 4: Dropping weathersit_severe"
   ]
  },
  {
   "cell_type": "code",
   "execution_count": null,
   "id": "af5ccf29",
   "metadata": {},
   "outputs": [],
   "source": [
    "cols = ['yr', 'holiday', 'temp', 'hum', 'windspeed', 'season_spring',\n",
    "       'season_winter', 'mnth_aug', 'mnth_dec', 'mnth_feb', 'mnth_jan',\n",
    "       'mnth_jul', 'mnth_jun']\n",
    "print(cols)"
   ]
  },
  {
   "cell_type": "code",
   "execution_count": null,
   "id": "f32aa3fb",
   "metadata": {},
   "outputs": [],
   "source": [
    "# Build OLS model 4\n",
    "build_ols_model(cols)"
   ]
  },
  {
   "cell_type": "code",
   "execution_count": null,
   "id": "b28717b5",
   "metadata": {},
   "outputs": [],
   "source": [
    "# Compute correlation matrix for model 4\n",
    "compute_correlation(cols)"
   ]
  },
  {
   "cell_type": "code",
   "execution_count": null,
   "id": "d527dcb6",
   "metadata": {},
   "outputs": [],
   "source": [
    "# Compute Vif for model 4\n",
    "compute_vif(cols)"
   ]
  },
  {
   "cell_type": "markdown",
   "id": "921452b0",
   "metadata": {},
   "source": [
    "---"
   ]
  },
  {
   "cell_type": "markdown",
   "id": "2b131468",
   "metadata": {},
   "source": [
    "Model 5: Including workingday"
   ]
  },
  {
   "cell_type": "code",
   "execution_count": null,
   "id": "16de3463",
   "metadata": {},
   "outputs": [],
   "source": [
    "cols = ['yr', 'holiday', 'temp', 'hum', 'windspeed', 'season_spring',\n",
    "       'season_winter', 'mnth_aug', 'mnth_dec', 'mnth_feb', 'mnth_jan',\n",
    "       'mnth_jul', 'mnth_jun', 'weathersit_severe', 'workingday']\n",
    "print(cols)"
   ]
  },
  {
   "cell_type": "code",
   "execution_count": null,
   "id": "d221e65d",
   "metadata": {},
   "outputs": [],
   "source": [
    "# Build OLS model 5\n",
    "build_ols_model(cols)"
   ]
  },
  {
   "cell_type": "code",
   "execution_count": null,
   "id": "2f0ca206",
   "metadata": {},
   "outputs": [],
   "source": [
    "# Compute correlation matrix for model 5\n",
    "compute_correlation(cols)"
   ]
  },
  {
   "cell_type": "code",
   "execution_count": null,
   "id": "c3bdae0f",
   "metadata": {},
   "outputs": [],
   "source": [
    "# Compute Vif for model 5\n",
    "compute_vif(cols)"
   ]
  },
  {
   "cell_type": "markdown",
   "id": "0665a575",
   "metadata": {},
   "source": [
    "---"
   ]
  },
  {
   "cell_type": "markdown",
   "id": "52f52b30",
   "metadata": {},
   "source": [
    "Model 6: Including days_old"
   ]
  },
  {
   "cell_type": "code",
   "execution_count": null,
   "id": "d8f8f4ab",
   "metadata": {},
   "outputs": [],
   "source": [
    "cols = ['yr', 'holiday', 'temp', 'hum', 'windspeed', 'season_spring',\n",
    "       'season_winter', 'mnth_aug', 'mnth_dec', 'mnth_feb', 'mnth_jan',\n",
    "       'mnth_jul', 'mnth_jun', 'weathersit_severe', 'workingday', 'days_old']\n",
    "print(cols)"
   ]
  },
  {
   "cell_type": "code",
   "execution_count": null,
   "id": "e3e4ac92",
   "metadata": {},
   "outputs": [],
   "source": [
    "# Build OLS model 6\n",
    "build_ols_model(cols)"
   ]
  },
  {
   "cell_type": "code",
   "execution_count": null,
   "id": "f871ed7d",
   "metadata": {},
   "outputs": [],
   "source": [
    "# Compute correlation matrix for model 6\n",
    "compute_correlation(cols)"
   ]
  },
  {
   "cell_type": "code",
   "execution_count": null,
   "id": "35882b4b",
   "metadata": {},
   "outputs": [],
   "source": [
    "# Compute Vif for model 6\n",
    "compute_vif(cols)"
   ]
  },
  {
   "cell_type": "markdown",
   "id": "08014cb4",
   "metadata": {},
   "source": [
    "---"
   ]
  },
  {
   "cell_type": "markdown",
   "id": "c220f565",
   "metadata": {},
   "source": [
    "Drawbacks of each model:"
   ]
  },
  {
   "cell_type": "code",
   "execution_count": null,
   "id": "ec8dec0b",
   "metadata": {},
   "outputs": [],
   "source": [
    "# Model 1,2,6- Multicollinearity\n",
    "# Model 3,5- Presence of workinday which has a P|t|>0.05 which shows the irrelevance of the feature to the target variable\n",
    "# Therefore, we will choose Model 4 goiong forward"
   ]
  },
  {
   "cell_type": "code",
   "execution_count": null,
   "id": "bd236815",
   "metadata": {},
   "outputs": [],
   "source": [
    "cols = ['yr', 'holiday', 'temp', 'hum', 'windspeed', 'season_spring',\n",
    "       'season_winter', 'mnth_aug', 'mnth_dec', 'mnth_feb', 'mnth_jan',\n",
    "       'mnth_jul', 'mnth_jun']\n",
    "print(cols)"
   ]
  },
  {
   "cell_type": "code",
   "execution_count": null,
   "id": "f52a0172",
   "metadata": {},
   "outputs": [],
   "source": [
    "lr1 = LinearRegression()\n",
    "reg_result = lr1.fit(X_train[cols],y_train)\n",
    "print(reg_result.intercept_, reg_result.coef_)"
   ]
  },
  {
   "cell_type": "markdown",
   "id": "2446b61b",
   "metadata": {},
   "source": [
    "---"
   ]
  },
  {
   "cell_type": "markdown",
   "id": "23549d50",
   "metadata": {},
   "source": [
    "Model Evaluation"
   ]
  },
  {
   "cell_type": "code",
   "execution_count": null,
   "id": "f5a11e1e",
   "metadata": {},
   "outputs": [],
   "source": [
    "working_dt['cnt'] = y\n",
    "working_dt.head()"
   ]
  },
  {
   "cell_type": "markdown",
   "id": "1ecc42bc",
   "metadata": {},
   "source": [
    "- Linearity"
   ]
  },
  {
   "cell_type": "code",
   "execution_count": null,
   "id": "e8bdfd8d",
   "metadata": {},
   "outputs": [],
   "source": [
    "# visualize the relationship between the features and the response using scatterplots\n",
    "p = sns.pairplot(dataset, x_vars=['yr', 'holiday', 'temp', 'hum', 'windspeed', 'season_spring',\n",
    "       'season_winter', 'mnth_aug', 'mnth_dec', 'mnth_feb', 'mnth_jan',\n",
    "       'mnth_jul', 'mnth_jun'], y_vars='cnt', size=10, aspect=0.7)"
   ]
  },
  {
   "cell_type": "markdown",
   "id": "46fc23ae",
   "metadata": {},
   "source": [
    "- Mean of Residuals"
   ]
  },
  {
   "cell_type": "code",
   "execution_count": null,
   "id": "05ea6824",
   "metadata": {},
   "outputs": [],
   "source": [
    "y_train_pred = lr1.predict(X_train[cols])"
   ]
  },
  {
   "cell_type": "code",
   "execution_count": null,
   "id": "d4f25832",
   "metadata": {},
   "outputs": [],
   "source": [
    "residuals = y_train.values-y_train_pred\n",
    "mean_residuals = np.mean(residuals)\n",
    "print(\"Mean of Residuals {}\".format(mean_residuals))"
   ]
  },
  {
   "cell_type": "markdown",
   "id": "cee0e7f9",
   "metadata": {},
   "source": [
    "- Check for Homoscedasticity"
   ]
  },
  {
   "cell_type": "code",
   "execution_count": null,
   "id": "d9661432",
   "metadata": {},
   "outputs": [],
   "source": [
    "p = sns.scatterplot(y_train_pred,residuals)\n",
    "plt.xlabel('Predicted values of y_train')\n",
    "plt.ylabel('Residuals')\n",
    "plt.ylim(-10,10)\n",
    "plt.xlim(0,26)\n",
    "p = sns.lineplot([0,26],[0,0],color='blue')\n",
    "p = plt.title('Residuals vs fitted values plot for homoscedasticity check')"
   ]
  },
  {
   "cell_type": "code",
   "execution_count": null,
   "id": "040d0eab",
   "metadata": {},
   "outputs": [],
   "source": [
    "# Checking heteroscedasticity : Using Goldfeld Quandt we test for heteroscedasticity.\n",
    "# Null Hypothesis: Error terms are homoscedastic\n",
    "# Alternative Hypothesis: Error terms are heteroscedastic.\n",
    "\n",
    "# from statsmodels.compat import lzip\n",
    "\n",
    "# name = ['F statistic', 'p-value']\n",
    "# test = sm.het_goldfeldquandt(residuals, X_train)\n",
    "# lzip(name, test)"
   ]
  },
  {
   "cell_type": "markdown",
   "id": "f9a6f009",
   "metadata": {},
   "source": [
    "- Normality of Errors"
   ]
  },
  {
   "cell_type": "code",
   "execution_count": null,
   "id": "045ac5c7",
   "metadata": {},
   "outputs": [],
   "source": [
    "p = sns.distplot(residuals,kde=True)\n",
    "p = plt.title('Normality of error terms/residuals')"
   ]
  },
  {
   "cell_type": "markdown",
   "id": "d5fc1ddf",
   "metadata": {},
   "source": [
    "- No autocorrelation of residuals"
   ]
  },
  {
   "cell_type": "code",
   "execution_count": null,
   "id": "7648fe32",
   "metadata": {},
   "outputs": [],
   "source": [
    "plt.figure(figsize=(10,5))\n",
    "p = sns.lineplot(y_train_pred,residuals,marker='o',color='blue')\n",
    "plt.xlabel('Predicted values of y_train')\n",
    "plt.ylabel('Residuals')\n",
    "plt.ylim(-100,100)\n",
    "plt.xlim(0,26)\n",
    "p = sns.lineplot([0,26],[0,0],color='red')\n",
    "p = plt.title('Residuals vs fitted values plot for autocorrelation check')"
   ]
  },
  {
   "cell_type": "code",
   "execution_count": null,
   "id": "cc01b10a",
   "metadata": {},
   "outputs": [],
   "source": []
  },
  {
   "cell_type": "code",
   "execution_count": null,
   "id": "22ee2f59",
   "metadata": {},
   "outputs": [],
   "source": []
  },
  {
   "cell_type": "code",
   "execution_count": null,
   "id": "8f68a334",
   "metadata": {},
   "outputs": [],
   "source": []
  },
  {
   "cell_type": "code",
   "execution_count": null,
   "id": "8d0c2edf",
   "metadata": {},
   "outputs": [],
   "source": [
    "from sklearn.metrics import r2_score"
   ]
  },
  {
   "cell_type": "code",
   "execution_count": null,
   "id": "fc9b071b",
   "metadata": {},
   "outputs": [],
   "source": [
    "#Print R-squared Value\n",
    "r2_score(y_train,y_train_pred)"
   ]
  },
  {
   "cell_type": "code",
   "execution_count": null,
   "id": "ac889060",
   "metadata": {},
   "outputs": [],
   "source": [
    "#Predict the values for test data\n",
    "y_test_pred = lr1.predict(X_test[cols])"
   ]
  },
  {
   "cell_type": "code",
   "execution_count": null,
   "id": "f3b2afc1",
   "metadata": {},
   "outputs": [],
   "source": [
    "# Find out the R squared value between test and predicted test data sets.  \n",
    "r2_score(y_test,y_test_pred)"
   ]
  },
  {
   "cell_type": "code",
   "execution_count": null,
   "id": "8c299315",
   "metadata": {},
   "outputs": [],
   "source": [
    "from sklearn.metrics import mean_squared_error"
   ]
  },
  {
   "cell_type": "code",
   "execution_count": null,
   "id": "2f0beedf",
   "metadata": {},
   "outputs": [],
   "source": [
    "mse = mean_squared_error(y_test, y_test_pred)"
   ]
  },
  {
   "cell_type": "code",
   "execution_count": null,
   "id": "7e1de97e",
   "metadata": {},
   "outputs": [],
   "source": [
    "import math\n",
    "\n",
    "rmse = math.sqrt(mse)\n",
    "print(rmse)"
   ]
  },
  {
   "cell_type": "code",
   "execution_count": null,
   "id": "47305398",
   "metadata": {},
   "outputs": [],
   "source": []
  }
 ],
 "metadata": {
  "kernelspec": {
   "display_name": "Python 3",
   "language": "python",
   "name": "python3"
  },
  "language_info": {
   "codemirror_mode": {
    "name": "ipython",
    "version": 3
   },
   "file_extension": ".py",
   "mimetype": "text/x-python",
   "name": "python",
   "nbconvert_exporter": "python",
   "pygments_lexer": "ipython3",
   "version": "3.8.8"
  }
 },
 "nbformat": 4,
 "nbformat_minor": 5
}
