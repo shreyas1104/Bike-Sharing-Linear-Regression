{
 "cells": [
  {
   "cell_type": "code",
   "execution_count": 1,
   "id": "e1552532",
   "metadata": {},
   "outputs": [],
   "source": [
    "import warnings\n",
    "warnings.filterwarnings(\"ignore\")\n",
    "\n",
    "import pandas as pd\n",
    "import numpy as np\n",
    "import matplotlib.pyplot as plt\n",
    "import seaborn as sns\n",
    "from sklearn.model_selection import train_test_split"
   ]
  },
  {
   "cell_type": "code",
   "execution_count": 2,
   "id": "3b2b6bba",
   "metadata": {},
   "outputs": [],
   "source": [
    "dataset = pd.read_csv(\"hour.csv\")"
   ]
  },
  {
   "cell_type": "markdown",
   "id": "a5695fb9",
   "metadata": {},
   "source": [
    "---"
   ]
  },
  {
   "cell_type": "markdown",
   "id": "c4fc9cb5",
   "metadata": {},
   "source": [
    "Exploratory Data Analysis"
   ]
  },
  {
   "cell_type": "code",
   "execution_count": 3,
   "id": "594c4fc7",
   "metadata": {
    "scrolled": true
   },
   "outputs": [
    {
     "data": {
      "text/html": [
       "<div>\n",
       "<style scoped>\n",
       "    .dataframe tbody tr th:only-of-type {\n",
       "        vertical-align: middle;\n",
       "    }\n",
       "\n",
       "    .dataframe tbody tr th {\n",
       "        vertical-align: top;\n",
       "    }\n",
       "\n",
       "    .dataframe thead th {\n",
       "        text-align: right;\n",
       "    }\n",
       "</style>\n",
       "<table border=\"1\" class=\"dataframe\">\n",
       "  <thead>\n",
       "    <tr style=\"text-align: right;\">\n",
       "      <th></th>\n",
       "      <th>instant</th>\n",
       "      <th>dteday</th>\n",
       "      <th>season</th>\n",
       "      <th>yr</th>\n",
       "      <th>mnth</th>\n",
       "      <th>hr</th>\n",
       "      <th>holiday</th>\n",
       "      <th>weekday</th>\n",
       "      <th>workingday</th>\n",
       "      <th>weathersit</th>\n",
       "      <th>temp</th>\n",
       "      <th>atemp</th>\n",
       "      <th>hum</th>\n",
       "      <th>windspeed</th>\n",
       "      <th>casual</th>\n",
       "      <th>registered</th>\n",
       "      <th>cnt</th>\n",
       "    </tr>\n",
       "  </thead>\n",
       "  <tbody>\n",
       "    <tr>\n",
       "      <th>0</th>\n",
       "      <td>1</td>\n",
       "      <td>2011-01-01</td>\n",
       "      <td>1</td>\n",
       "      <td>0</td>\n",
       "      <td>1</td>\n",
       "      <td>0</td>\n",
       "      <td>0</td>\n",
       "      <td>6</td>\n",
       "      <td>0</td>\n",
       "      <td>1</td>\n",
       "      <td>0.24</td>\n",
       "      <td>0.2879</td>\n",
       "      <td>0.81</td>\n",
       "      <td>0.0</td>\n",
       "      <td>3</td>\n",
       "      <td>13</td>\n",
       "      <td>16</td>\n",
       "    </tr>\n",
       "    <tr>\n",
       "      <th>1</th>\n",
       "      <td>2</td>\n",
       "      <td>2011-01-01</td>\n",
       "      <td>1</td>\n",
       "      <td>0</td>\n",
       "      <td>1</td>\n",
       "      <td>1</td>\n",
       "      <td>0</td>\n",
       "      <td>6</td>\n",
       "      <td>0</td>\n",
       "      <td>1</td>\n",
       "      <td>0.22</td>\n",
       "      <td>0.2727</td>\n",
       "      <td>0.80</td>\n",
       "      <td>0.0</td>\n",
       "      <td>8</td>\n",
       "      <td>32</td>\n",
       "      <td>40</td>\n",
       "    </tr>\n",
       "    <tr>\n",
       "      <th>2</th>\n",
       "      <td>3</td>\n",
       "      <td>2011-01-01</td>\n",
       "      <td>1</td>\n",
       "      <td>0</td>\n",
       "      <td>1</td>\n",
       "      <td>2</td>\n",
       "      <td>0</td>\n",
       "      <td>6</td>\n",
       "      <td>0</td>\n",
       "      <td>1</td>\n",
       "      <td>0.22</td>\n",
       "      <td>0.2727</td>\n",
       "      <td>0.80</td>\n",
       "      <td>0.0</td>\n",
       "      <td>5</td>\n",
       "      <td>27</td>\n",
       "      <td>32</td>\n",
       "    </tr>\n",
       "    <tr>\n",
       "      <th>3</th>\n",
       "      <td>4</td>\n",
       "      <td>2011-01-01</td>\n",
       "      <td>1</td>\n",
       "      <td>0</td>\n",
       "      <td>1</td>\n",
       "      <td>3</td>\n",
       "      <td>0</td>\n",
       "      <td>6</td>\n",
       "      <td>0</td>\n",
       "      <td>1</td>\n",
       "      <td>0.24</td>\n",
       "      <td>0.2879</td>\n",
       "      <td>0.75</td>\n",
       "      <td>0.0</td>\n",
       "      <td>3</td>\n",
       "      <td>10</td>\n",
       "      <td>13</td>\n",
       "    </tr>\n",
       "    <tr>\n",
       "      <th>4</th>\n",
       "      <td>5</td>\n",
       "      <td>2011-01-01</td>\n",
       "      <td>1</td>\n",
       "      <td>0</td>\n",
       "      <td>1</td>\n",
       "      <td>4</td>\n",
       "      <td>0</td>\n",
       "      <td>6</td>\n",
       "      <td>0</td>\n",
       "      <td>1</td>\n",
       "      <td>0.24</td>\n",
       "      <td>0.2879</td>\n",
       "      <td>0.75</td>\n",
       "      <td>0.0</td>\n",
       "      <td>0</td>\n",
       "      <td>1</td>\n",
       "      <td>1</td>\n",
       "    </tr>\n",
       "  </tbody>\n",
       "</table>\n",
       "</div>"
      ],
      "text/plain": [
       "   instant      dteday  season  yr  mnth  hr  holiday  weekday  workingday  \\\n",
       "0        1  2011-01-01       1   0     1   0        0        6           0   \n",
       "1        2  2011-01-01       1   0     1   1        0        6           0   \n",
       "2        3  2011-01-01       1   0     1   2        0        6           0   \n",
       "3        4  2011-01-01       1   0     1   3        0        6           0   \n",
       "4        5  2011-01-01       1   0     1   4        0        6           0   \n",
       "\n",
       "   weathersit  temp   atemp   hum  windspeed  casual  registered  cnt  \n",
       "0           1  0.24  0.2879  0.81        0.0       3          13   16  \n",
       "1           1  0.22  0.2727  0.80        0.0       8          32   40  \n",
       "2           1  0.22  0.2727  0.80        0.0       5          27   32  \n",
       "3           1  0.24  0.2879  0.75        0.0       3          10   13  \n",
       "4           1  0.24  0.2879  0.75        0.0       0           1    1  "
      ]
     },
     "execution_count": 3,
     "metadata": {},
     "output_type": "execute_result"
    }
   ],
   "source": [
    "# Display first 5 records \n",
    "dataset.head()"
   ]
  },
  {
   "cell_type": "code",
   "execution_count": 4,
   "id": "430e32a0",
   "metadata": {},
   "outputs": [
    {
     "name": "stdout",
     "output_type": "stream",
     "text": [
      "<class 'pandas.core.frame.DataFrame'>\n",
      "RangeIndex: 17379 entries, 0 to 17378\n",
      "Data columns (total 17 columns):\n",
      " #   Column      Non-Null Count  Dtype  \n",
      "---  ------      --------------  -----  \n",
      " 0   instant     17379 non-null  int64  \n",
      " 1   dteday      17379 non-null  object \n",
      " 2   season      17379 non-null  int64  \n",
      " 3   yr          17379 non-null  int64  \n",
      " 4   mnth        17379 non-null  int64  \n",
      " 5   hr          17379 non-null  int64  \n",
      " 6   holiday     17379 non-null  int64  \n",
      " 7   weekday     17379 non-null  int64  \n",
      " 8   workingday  17379 non-null  int64  \n",
      " 9   weathersit  17379 non-null  int64  \n",
      " 10  temp        17379 non-null  float64\n",
      " 11  atemp       17379 non-null  float64\n",
      " 12  hum         17379 non-null  float64\n",
      " 13  windspeed   17379 non-null  float64\n",
      " 14  casual      17379 non-null  int64  \n",
      " 15  registered  17379 non-null  int64  \n",
      " 16  cnt         17379 non-null  int64  \n",
      "dtypes: float64(4), int64(12), object(1)\n",
      "memory usage: 2.3+ MB\n"
     ]
    }
   ],
   "source": [
    "# Info about columns, type of data \n",
    "dataset.info()"
   ]
  },
  {
   "cell_type": "code",
   "execution_count": 5,
   "id": "f4711370",
   "metadata": {},
   "outputs": [
    {
     "data": {
      "text/html": [
       "<div>\n",
       "<style scoped>\n",
       "    .dataframe tbody tr th:only-of-type {\n",
       "        vertical-align: middle;\n",
       "    }\n",
       "\n",
       "    .dataframe tbody tr th {\n",
       "        vertical-align: top;\n",
       "    }\n",
       "\n",
       "    .dataframe thead th {\n",
       "        text-align: right;\n",
       "    }\n",
       "</style>\n",
       "<table border=\"1\" class=\"dataframe\">\n",
       "  <thead>\n",
       "    <tr style=\"text-align: right;\">\n",
       "      <th></th>\n",
       "      <th>instant</th>\n",
       "      <th>season</th>\n",
       "      <th>yr</th>\n",
       "      <th>mnth</th>\n",
       "      <th>hr</th>\n",
       "      <th>holiday</th>\n",
       "      <th>weekday</th>\n",
       "      <th>workingday</th>\n",
       "      <th>weathersit</th>\n",
       "      <th>temp</th>\n",
       "      <th>atemp</th>\n",
       "      <th>hum</th>\n",
       "      <th>windspeed</th>\n",
       "      <th>casual</th>\n",
       "      <th>registered</th>\n",
       "      <th>cnt</th>\n",
       "    </tr>\n",
       "  </thead>\n",
       "  <tbody>\n",
       "    <tr>\n",
       "      <th>count</th>\n",
       "      <td>17379.0000</td>\n",
       "      <td>17379.000000</td>\n",
       "      <td>17379.000000</td>\n",
       "      <td>17379.000000</td>\n",
       "      <td>17379.000000</td>\n",
       "      <td>17379.000000</td>\n",
       "      <td>17379.000000</td>\n",
       "      <td>17379.000000</td>\n",
       "      <td>17379.000000</td>\n",
       "      <td>17379.000000</td>\n",
       "      <td>17379.000000</td>\n",
       "      <td>17379.000000</td>\n",
       "      <td>17379.000000</td>\n",
       "      <td>17379.000000</td>\n",
       "      <td>17379.000000</td>\n",
       "      <td>17379.000000</td>\n",
       "    </tr>\n",
       "    <tr>\n",
       "      <th>mean</th>\n",
       "      <td>8690.0000</td>\n",
       "      <td>2.501640</td>\n",
       "      <td>0.502561</td>\n",
       "      <td>6.537775</td>\n",
       "      <td>11.546752</td>\n",
       "      <td>0.028770</td>\n",
       "      <td>3.003683</td>\n",
       "      <td>0.682721</td>\n",
       "      <td>1.425283</td>\n",
       "      <td>0.496987</td>\n",
       "      <td>0.475775</td>\n",
       "      <td>0.627229</td>\n",
       "      <td>0.190098</td>\n",
       "      <td>35.676218</td>\n",
       "      <td>153.786869</td>\n",
       "      <td>189.463088</td>\n",
       "    </tr>\n",
       "    <tr>\n",
       "      <th>std</th>\n",
       "      <td>5017.0295</td>\n",
       "      <td>1.106918</td>\n",
       "      <td>0.500008</td>\n",
       "      <td>3.438776</td>\n",
       "      <td>6.914405</td>\n",
       "      <td>0.167165</td>\n",
       "      <td>2.005771</td>\n",
       "      <td>0.465431</td>\n",
       "      <td>0.639357</td>\n",
       "      <td>0.192556</td>\n",
       "      <td>0.171850</td>\n",
       "      <td>0.192930</td>\n",
       "      <td>0.122340</td>\n",
       "      <td>49.305030</td>\n",
       "      <td>151.357286</td>\n",
       "      <td>181.387599</td>\n",
       "    </tr>\n",
       "    <tr>\n",
       "      <th>min</th>\n",
       "      <td>1.0000</td>\n",
       "      <td>1.000000</td>\n",
       "      <td>0.000000</td>\n",
       "      <td>1.000000</td>\n",
       "      <td>0.000000</td>\n",
       "      <td>0.000000</td>\n",
       "      <td>0.000000</td>\n",
       "      <td>0.000000</td>\n",
       "      <td>1.000000</td>\n",
       "      <td>0.020000</td>\n",
       "      <td>0.000000</td>\n",
       "      <td>0.000000</td>\n",
       "      <td>0.000000</td>\n",
       "      <td>0.000000</td>\n",
       "      <td>0.000000</td>\n",
       "      <td>1.000000</td>\n",
       "    </tr>\n",
       "    <tr>\n",
       "      <th>25%</th>\n",
       "      <td>4345.5000</td>\n",
       "      <td>2.000000</td>\n",
       "      <td>0.000000</td>\n",
       "      <td>4.000000</td>\n",
       "      <td>6.000000</td>\n",
       "      <td>0.000000</td>\n",
       "      <td>1.000000</td>\n",
       "      <td>0.000000</td>\n",
       "      <td>1.000000</td>\n",
       "      <td>0.340000</td>\n",
       "      <td>0.333300</td>\n",
       "      <td>0.480000</td>\n",
       "      <td>0.104500</td>\n",
       "      <td>4.000000</td>\n",
       "      <td>34.000000</td>\n",
       "      <td>40.000000</td>\n",
       "    </tr>\n",
       "    <tr>\n",
       "      <th>50%</th>\n",
       "      <td>8690.0000</td>\n",
       "      <td>3.000000</td>\n",
       "      <td>1.000000</td>\n",
       "      <td>7.000000</td>\n",
       "      <td>12.000000</td>\n",
       "      <td>0.000000</td>\n",
       "      <td>3.000000</td>\n",
       "      <td>1.000000</td>\n",
       "      <td>1.000000</td>\n",
       "      <td>0.500000</td>\n",
       "      <td>0.484800</td>\n",
       "      <td>0.630000</td>\n",
       "      <td>0.194000</td>\n",
       "      <td>17.000000</td>\n",
       "      <td>115.000000</td>\n",
       "      <td>142.000000</td>\n",
       "    </tr>\n",
       "    <tr>\n",
       "      <th>75%</th>\n",
       "      <td>13034.5000</td>\n",
       "      <td>3.000000</td>\n",
       "      <td>1.000000</td>\n",
       "      <td>10.000000</td>\n",
       "      <td>18.000000</td>\n",
       "      <td>0.000000</td>\n",
       "      <td>5.000000</td>\n",
       "      <td>1.000000</td>\n",
       "      <td>2.000000</td>\n",
       "      <td>0.660000</td>\n",
       "      <td>0.621200</td>\n",
       "      <td>0.780000</td>\n",
       "      <td>0.253700</td>\n",
       "      <td>48.000000</td>\n",
       "      <td>220.000000</td>\n",
       "      <td>281.000000</td>\n",
       "    </tr>\n",
       "    <tr>\n",
       "      <th>max</th>\n",
       "      <td>17379.0000</td>\n",
       "      <td>4.000000</td>\n",
       "      <td>1.000000</td>\n",
       "      <td>12.000000</td>\n",
       "      <td>23.000000</td>\n",
       "      <td>1.000000</td>\n",
       "      <td>6.000000</td>\n",
       "      <td>1.000000</td>\n",
       "      <td>4.000000</td>\n",
       "      <td>1.000000</td>\n",
       "      <td>1.000000</td>\n",
       "      <td>1.000000</td>\n",
       "      <td>0.850700</td>\n",
       "      <td>367.000000</td>\n",
       "      <td>886.000000</td>\n",
       "      <td>977.000000</td>\n",
       "    </tr>\n",
       "  </tbody>\n",
       "</table>\n",
       "</div>"
      ],
      "text/plain": [
       "          instant        season            yr          mnth            hr  \\\n",
       "count  17379.0000  17379.000000  17379.000000  17379.000000  17379.000000   \n",
       "mean    8690.0000      2.501640      0.502561      6.537775     11.546752   \n",
       "std     5017.0295      1.106918      0.500008      3.438776      6.914405   \n",
       "min        1.0000      1.000000      0.000000      1.000000      0.000000   \n",
       "25%     4345.5000      2.000000      0.000000      4.000000      6.000000   \n",
       "50%     8690.0000      3.000000      1.000000      7.000000     12.000000   \n",
       "75%    13034.5000      3.000000      1.000000     10.000000     18.000000   \n",
       "max    17379.0000      4.000000      1.000000     12.000000     23.000000   \n",
       "\n",
       "            holiday       weekday    workingday    weathersit          temp  \\\n",
       "count  17379.000000  17379.000000  17379.000000  17379.000000  17379.000000   \n",
       "mean       0.028770      3.003683      0.682721      1.425283      0.496987   \n",
       "std        0.167165      2.005771      0.465431      0.639357      0.192556   \n",
       "min        0.000000      0.000000      0.000000      1.000000      0.020000   \n",
       "25%        0.000000      1.000000      0.000000      1.000000      0.340000   \n",
       "50%        0.000000      3.000000      1.000000      1.000000      0.500000   \n",
       "75%        0.000000      5.000000      1.000000      2.000000      0.660000   \n",
       "max        1.000000      6.000000      1.000000      4.000000      1.000000   \n",
       "\n",
       "              atemp           hum     windspeed        casual    registered  \\\n",
       "count  17379.000000  17379.000000  17379.000000  17379.000000  17379.000000   \n",
       "mean       0.475775      0.627229      0.190098     35.676218    153.786869   \n",
       "std        0.171850      0.192930      0.122340     49.305030    151.357286   \n",
       "min        0.000000      0.000000      0.000000      0.000000      0.000000   \n",
       "25%        0.333300      0.480000      0.104500      4.000000     34.000000   \n",
       "50%        0.484800      0.630000      0.194000     17.000000    115.000000   \n",
       "75%        0.621200      0.780000      0.253700     48.000000    220.000000   \n",
       "max        1.000000      1.000000      0.850700    367.000000    886.000000   \n",
       "\n",
       "                cnt  \n",
       "count  17379.000000  \n",
       "mean     189.463088  \n",
       "std      181.387599  \n",
       "min        1.000000  \n",
       "25%       40.000000  \n",
       "50%      142.000000  \n",
       "75%      281.000000  \n",
       "max      977.000000  "
      ]
     },
     "execution_count": 5,
     "metadata": {},
     "output_type": "execute_result"
    }
   ],
   "source": [
    "# Getting various statistical data like Mean, Standard Deviation, Median, Max Value, Min Value (excludes categorical vars)\n",
    "dataset.describe()"
   ]
  },
  {
   "cell_type": "code",
   "execution_count": 6,
   "id": "245d17bb",
   "metadata": {},
   "outputs": [
    {
     "data": {
      "text/plain": [
       "instant       0\n",
       "dteday        0\n",
       "season        0\n",
       "yr            0\n",
       "mnth          0\n",
       "hr            0\n",
       "holiday       0\n",
       "weekday       0\n",
       "workingday    0\n",
       "weathersit    0\n",
       "temp          0\n",
       "atemp         0\n",
       "hum           0\n",
       "windspeed     0\n",
       "casual        0\n",
       "registered    0\n",
       "cnt           0\n",
       "dtype: int64"
      ]
     },
     "execution_count": 6,
     "metadata": {},
     "output_type": "execute_result"
    }
   ],
   "source": [
    "# Checking if columns have null values, if null- we replace with mean/median or simply drop these entries\n",
    "dataset.isnull().sum()"
   ]
  },
  {
   "cell_type": "code",
   "execution_count": 7,
   "id": "a59bb606",
   "metadata": {},
   "outputs": [
    {
     "name": "stdout",
     "output_type": "stream",
     "text": [
      "Count of zeros in cnt :  0\n"
     ]
    }
   ],
   "source": [
    "# Get the count of zeros in column 'cnt'  \n",
    "column = dataset['cnt'] \n",
    "count = column[column == 0].count()\n",
    "print('Count of zeros in cnt : ', count)"
   ]
  },
  {
   "cell_type": "code",
   "execution_count": 8,
   "id": "e1a27b16",
   "metadata": {},
   "outputs": [
    {
     "data": {
      "text/html": [
       "<div>\n",
       "<style scoped>\n",
       "    .dataframe tbody tr th:only-of-type {\n",
       "        vertical-align: middle;\n",
       "    }\n",
       "\n",
       "    .dataframe tbody tr th {\n",
       "        vertical-align: top;\n",
       "    }\n",
       "\n",
       "    .dataframe thead th {\n",
       "        text-align: right;\n",
       "    }\n",
       "</style>\n",
       "<table border=\"1\" class=\"dataframe\">\n",
       "  <thead>\n",
       "    <tr style=\"text-align: right;\">\n",
       "      <th></th>\n",
       "      <th>instant</th>\n",
       "      <th>season</th>\n",
       "      <th>yr</th>\n",
       "      <th>mnth</th>\n",
       "      <th>hr</th>\n",
       "      <th>holiday</th>\n",
       "      <th>weekday</th>\n",
       "      <th>workingday</th>\n",
       "      <th>weathersit</th>\n",
       "      <th>temp</th>\n",
       "      <th>atemp</th>\n",
       "      <th>hum</th>\n",
       "      <th>windspeed</th>\n",
       "      <th>casual</th>\n",
       "      <th>registered</th>\n",
       "      <th>cnt</th>\n",
       "    </tr>\n",
       "  </thead>\n",
       "  <tbody>\n",
       "    <tr>\n",
       "      <th>instant</th>\n",
       "      <td>1.000000</td>\n",
       "      <td>0.404046</td>\n",
       "      <td>0.866014</td>\n",
       "      <td>0.489164</td>\n",
       "      <td>-0.004775</td>\n",
       "      <td>0.014723</td>\n",
       "      <td>0.001357</td>\n",
       "      <td>-0.003416</td>\n",
       "      <td>-0.014198</td>\n",
       "      <td>0.136178</td>\n",
       "      <td>0.137615</td>\n",
       "      <td>0.009577</td>\n",
       "      <td>-0.074505</td>\n",
       "      <td>0.158295</td>\n",
       "      <td>0.282046</td>\n",
       "      <td>0.278379</td>\n",
       "    </tr>\n",
       "    <tr>\n",
       "      <th>season</th>\n",
       "      <td>0.404046</td>\n",
       "      <td>1.000000</td>\n",
       "      <td>-0.010742</td>\n",
       "      <td>0.830386</td>\n",
       "      <td>-0.006117</td>\n",
       "      <td>-0.009585</td>\n",
       "      <td>-0.002335</td>\n",
       "      <td>0.013743</td>\n",
       "      <td>-0.014524</td>\n",
       "      <td>0.312025</td>\n",
       "      <td>0.319380</td>\n",
       "      <td>0.150625</td>\n",
       "      <td>-0.149773</td>\n",
       "      <td>0.120206</td>\n",
       "      <td>0.174226</td>\n",
       "      <td>0.178056</td>\n",
       "    </tr>\n",
       "    <tr>\n",
       "      <th>yr</th>\n",
       "      <td>0.866014</td>\n",
       "      <td>-0.010742</td>\n",
       "      <td>1.000000</td>\n",
       "      <td>-0.010473</td>\n",
       "      <td>-0.003867</td>\n",
       "      <td>0.006692</td>\n",
       "      <td>-0.004485</td>\n",
       "      <td>-0.002196</td>\n",
       "      <td>-0.019157</td>\n",
       "      <td>0.040913</td>\n",
       "      <td>0.039222</td>\n",
       "      <td>-0.083546</td>\n",
       "      <td>-0.008740</td>\n",
       "      <td>0.142779</td>\n",
       "      <td>0.253684</td>\n",
       "      <td>0.250495</td>\n",
       "    </tr>\n",
       "    <tr>\n",
       "      <th>mnth</th>\n",
       "      <td>0.489164</td>\n",
       "      <td>0.830386</td>\n",
       "      <td>-0.010473</td>\n",
       "      <td>1.000000</td>\n",
       "      <td>-0.005772</td>\n",
       "      <td>0.018430</td>\n",
       "      <td>0.010400</td>\n",
       "      <td>-0.003477</td>\n",
       "      <td>0.005400</td>\n",
       "      <td>0.201691</td>\n",
       "      <td>0.208096</td>\n",
       "      <td>0.164411</td>\n",
       "      <td>-0.135386</td>\n",
       "      <td>0.068457</td>\n",
       "      <td>0.122273</td>\n",
       "      <td>0.120638</td>\n",
       "    </tr>\n",
       "    <tr>\n",
       "      <th>hr</th>\n",
       "      <td>-0.004775</td>\n",
       "      <td>-0.006117</td>\n",
       "      <td>-0.003867</td>\n",
       "      <td>-0.005772</td>\n",
       "      <td>1.000000</td>\n",
       "      <td>0.000479</td>\n",
       "      <td>-0.003498</td>\n",
       "      <td>0.002285</td>\n",
       "      <td>-0.020203</td>\n",
       "      <td>0.137603</td>\n",
       "      <td>0.133750</td>\n",
       "      <td>-0.276498</td>\n",
       "      <td>0.137252</td>\n",
       "      <td>0.301202</td>\n",
       "      <td>0.374141</td>\n",
       "      <td>0.394071</td>\n",
       "    </tr>\n",
       "    <tr>\n",
       "      <th>holiday</th>\n",
       "      <td>0.014723</td>\n",
       "      <td>-0.009585</td>\n",
       "      <td>0.006692</td>\n",
       "      <td>0.018430</td>\n",
       "      <td>0.000479</td>\n",
       "      <td>1.000000</td>\n",
       "      <td>-0.102088</td>\n",
       "      <td>-0.252471</td>\n",
       "      <td>-0.017036</td>\n",
       "      <td>-0.027340</td>\n",
       "      <td>-0.030973</td>\n",
       "      <td>-0.010588</td>\n",
       "      <td>0.003988</td>\n",
       "      <td>0.031564</td>\n",
       "      <td>-0.047345</td>\n",
       "      <td>-0.030927</td>\n",
       "    </tr>\n",
       "    <tr>\n",
       "      <th>weekday</th>\n",
       "      <td>0.001357</td>\n",
       "      <td>-0.002335</td>\n",
       "      <td>-0.004485</td>\n",
       "      <td>0.010400</td>\n",
       "      <td>-0.003498</td>\n",
       "      <td>-0.102088</td>\n",
       "      <td>1.000000</td>\n",
       "      <td>0.035955</td>\n",
       "      <td>0.003311</td>\n",
       "      <td>-0.001795</td>\n",
       "      <td>-0.008821</td>\n",
       "      <td>-0.037158</td>\n",
       "      <td>0.011502</td>\n",
       "      <td>0.032721</td>\n",
       "      <td>0.021578</td>\n",
       "      <td>0.026900</td>\n",
       "    </tr>\n",
       "    <tr>\n",
       "      <th>workingday</th>\n",
       "      <td>-0.003416</td>\n",
       "      <td>0.013743</td>\n",
       "      <td>-0.002196</td>\n",
       "      <td>-0.003477</td>\n",
       "      <td>0.002285</td>\n",
       "      <td>-0.252471</td>\n",
       "      <td>0.035955</td>\n",
       "      <td>1.000000</td>\n",
       "      <td>0.044672</td>\n",
       "      <td>0.055390</td>\n",
       "      <td>0.054667</td>\n",
       "      <td>0.015688</td>\n",
       "      <td>-0.011830</td>\n",
       "      <td>-0.300942</td>\n",
       "      <td>0.134326</td>\n",
       "      <td>0.030284</td>\n",
       "    </tr>\n",
       "    <tr>\n",
       "      <th>weathersit</th>\n",
       "      <td>-0.014198</td>\n",
       "      <td>-0.014524</td>\n",
       "      <td>-0.019157</td>\n",
       "      <td>0.005400</td>\n",
       "      <td>-0.020203</td>\n",
       "      <td>-0.017036</td>\n",
       "      <td>0.003311</td>\n",
       "      <td>0.044672</td>\n",
       "      <td>1.000000</td>\n",
       "      <td>-0.102640</td>\n",
       "      <td>-0.105563</td>\n",
       "      <td>0.418130</td>\n",
       "      <td>0.026226</td>\n",
       "      <td>-0.152628</td>\n",
       "      <td>-0.120966</td>\n",
       "      <td>-0.142426</td>\n",
       "    </tr>\n",
       "    <tr>\n",
       "      <th>temp</th>\n",
       "      <td>0.136178</td>\n",
       "      <td>0.312025</td>\n",
       "      <td>0.040913</td>\n",
       "      <td>0.201691</td>\n",
       "      <td>0.137603</td>\n",
       "      <td>-0.027340</td>\n",
       "      <td>-0.001795</td>\n",
       "      <td>0.055390</td>\n",
       "      <td>-0.102640</td>\n",
       "      <td>1.000000</td>\n",
       "      <td>0.987672</td>\n",
       "      <td>-0.069881</td>\n",
       "      <td>-0.023125</td>\n",
       "      <td>0.459616</td>\n",
       "      <td>0.335361</td>\n",
       "      <td>0.404772</td>\n",
       "    </tr>\n",
       "    <tr>\n",
       "      <th>atemp</th>\n",
       "      <td>0.137615</td>\n",
       "      <td>0.319380</td>\n",
       "      <td>0.039222</td>\n",
       "      <td>0.208096</td>\n",
       "      <td>0.133750</td>\n",
       "      <td>-0.030973</td>\n",
       "      <td>-0.008821</td>\n",
       "      <td>0.054667</td>\n",
       "      <td>-0.105563</td>\n",
       "      <td>0.987672</td>\n",
       "      <td>1.000000</td>\n",
       "      <td>-0.051918</td>\n",
       "      <td>-0.062336</td>\n",
       "      <td>0.454080</td>\n",
       "      <td>0.332559</td>\n",
       "      <td>0.400929</td>\n",
       "    </tr>\n",
       "    <tr>\n",
       "      <th>hum</th>\n",
       "      <td>0.009577</td>\n",
       "      <td>0.150625</td>\n",
       "      <td>-0.083546</td>\n",
       "      <td>0.164411</td>\n",
       "      <td>-0.276498</td>\n",
       "      <td>-0.010588</td>\n",
       "      <td>-0.037158</td>\n",
       "      <td>0.015688</td>\n",
       "      <td>0.418130</td>\n",
       "      <td>-0.069881</td>\n",
       "      <td>-0.051918</td>\n",
       "      <td>1.000000</td>\n",
       "      <td>-0.290105</td>\n",
       "      <td>-0.347028</td>\n",
       "      <td>-0.273933</td>\n",
       "      <td>-0.322911</td>\n",
       "    </tr>\n",
       "    <tr>\n",
       "      <th>windspeed</th>\n",
       "      <td>-0.074505</td>\n",
       "      <td>-0.149773</td>\n",
       "      <td>-0.008740</td>\n",
       "      <td>-0.135386</td>\n",
       "      <td>0.137252</td>\n",
       "      <td>0.003988</td>\n",
       "      <td>0.011502</td>\n",
       "      <td>-0.011830</td>\n",
       "      <td>0.026226</td>\n",
       "      <td>-0.023125</td>\n",
       "      <td>-0.062336</td>\n",
       "      <td>-0.290105</td>\n",
       "      <td>1.000000</td>\n",
       "      <td>0.090287</td>\n",
       "      <td>0.082321</td>\n",
       "      <td>0.093234</td>\n",
       "    </tr>\n",
       "    <tr>\n",
       "      <th>casual</th>\n",
       "      <td>0.158295</td>\n",
       "      <td>0.120206</td>\n",
       "      <td>0.142779</td>\n",
       "      <td>0.068457</td>\n",
       "      <td>0.301202</td>\n",
       "      <td>0.031564</td>\n",
       "      <td>0.032721</td>\n",
       "      <td>-0.300942</td>\n",
       "      <td>-0.152628</td>\n",
       "      <td>0.459616</td>\n",
       "      <td>0.454080</td>\n",
       "      <td>-0.347028</td>\n",
       "      <td>0.090287</td>\n",
       "      <td>1.000000</td>\n",
       "      <td>0.506618</td>\n",
       "      <td>0.694564</td>\n",
       "    </tr>\n",
       "    <tr>\n",
       "      <th>registered</th>\n",
       "      <td>0.282046</td>\n",
       "      <td>0.174226</td>\n",
       "      <td>0.253684</td>\n",
       "      <td>0.122273</td>\n",
       "      <td>0.374141</td>\n",
       "      <td>-0.047345</td>\n",
       "      <td>0.021578</td>\n",
       "      <td>0.134326</td>\n",
       "      <td>-0.120966</td>\n",
       "      <td>0.335361</td>\n",
       "      <td>0.332559</td>\n",
       "      <td>-0.273933</td>\n",
       "      <td>0.082321</td>\n",
       "      <td>0.506618</td>\n",
       "      <td>1.000000</td>\n",
       "      <td>0.972151</td>\n",
       "    </tr>\n",
       "    <tr>\n",
       "      <th>cnt</th>\n",
       "      <td>0.278379</td>\n",
       "      <td>0.178056</td>\n",
       "      <td>0.250495</td>\n",
       "      <td>0.120638</td>\n",
       "      <td>0.394071</td>\n",
       "      <td>-0.030927</td>\n",
       "      <td>0.026900</td>\n",
       "      <td>0.030284</td>\n",
       "      <td>-0.142426</td>\n",
       "      <td>0.404772</td>\n",
       "      <td>0.400929</td>\n",
       "      <td>-0.322911</td>\n",
       "      <td>0.093234</td>\n",
       "      <td>0.694564</td>\n",
       "      <td>0.972151</td>\n",
       "      <td>1.000000</td>\n",
       "    </tr>\n",
       "  </tbody>\n",
       "</table>\n",
       "</div>"
      ],
      "text/plain": [
       "             instant    season        yr      mnth        hr   holiday  \\\n",
       "instant     1.000000  0.404046  0.866014  0.489164 -0.004775  0.014723   \n",
       "season      0.404046  1.000000 -0.010742  0.830386 -0.006117 -0.009585   \n",
       "yr          0.866014 -0.010742  1.000000 -0.010473 -0.003867  0.006692   \n",
       "mnth        0.489164  0.830386 -0.010473  1.000000 -0.005772  0.018430   \n",
       "hr         -0.004775 -0.006117 -0.003867 -0.005772  1.000000  0.000479   \n",
       "holiday     0.014723 -0.009585  0.006692  0.018430  0.000479  1.000000   \n",
       "weekday     0.001357 -0.002335 -0.004485  0.010400 -0.003498 -0.102088   \n",
       "workingday -0.003416  0.013743 -0.002196 -0.003477  0.002285 -0.252471   \n",
       "weathersit -0.014198 -0.014524 -0.019157  0.005400 -0.020203 -0.017036   \n",
       "temp        0.136178  0.312025  0.040913  0.201691  0.137603 -0.027340   \n",
       "atemp       0.137615  0.319380  0.039222  0.208096  0.133750 -0.030973   \n",
       "hum         0.009577  0.150625 -0.083546  0.164411 -0.276498 -0.010588   \n",
       "windspeed  -0.074505 -0.149773 -0.008740 -0.135386  0.137252  0.003988   \n",
       "casual      0.158295  0.120206  0.142779  0.068457  0.301202  0.031564   \n",
       "registered  0.282046  0.174226  0.253684  0.122273  0.374141 -0.047345   \n",
       "cnt         0.278379  0.178056  0.250495  0.120638  0.394071 -0.030927   \n",
       "\n",
       "             weekday  workingday  weathersit      temp     atemp       hum  \\\n",
       "instant     0.001357   -0.003416   -0.014198  0.136178  0.137615  0.009577   \n",
       "season     -0.002335    0.013743   -0.014524  0.312025  0.319380  0.150625   \n",
       "yr         -0.004485   -0.002196   -0.019157  0.040913  0.039222 -0.083546   \n",
       "mnth        0.010400   -0.003477    0.005400  0.201691  0.208096  0.164411   \n",
       "hr         -0.003498    0.002285   -0.020203  0.137603  0.133750 -0.276498   \n",
       "holiday    -0.102088   -0.252471   -0.017036 -0.027340 -0.030973 -0.010588   \n",
       "weekday     1.000000    0.035955    0.003311 -0.001795 -0.008821 -0.037158   \n",
       "workingday  0.035955    1.000000    0.044672  0.055390  0.054667  0.015688   \n",
       "weathersit  0.003311    0.044672    1.000000 -0.102640 -0.105563  0.418130   \n",
       "temp       -0.001795    0.055390   -0.102640  1.000000  0.987672 -0.069881   \n",
       "atemp      -0.008821    0.054667   -0.105563  0.987672  1.000000 -0.051918   \n",
       "hum        -0.037158    0.015688    0.418130 -0.069881 -0.051918  1.000000   \n",
       "windspeed   0.011502   -0.011830    0.026226 -0.023125 -0.062336 -0.290105   \n",
       "casual      0.032721   -0.300942   -0.152628  0.459616  0.454080 -0.347028   \n",
       "registered  0.021578    0.134326   -0.120966  0.335361  0.332559 -0.273933   \n",
       "cnt         0.026900    0.030284   -0.142426  0.404772  0.400929 -0.322911   \n",
       "\n",
       "            windspeed    casual  registered       cnt  \n",
       "instant     -0.074505  0.158295    0.282046  0.278379  \n",
       "season      -0.149773  0.120206    0.174226  0.178056  \n",
       "yr          -0.008740  0.142779    0.253684  0.250495  \n",
       "mnth        -0.135386  0.068457    0.122273  0.120638  \n",
       "hr           0.137252  0.301202    0.374141  0.394071  \n",
       "holiday      0.003988  0.031564   -0.047345 -0.030927  \n",
       "weekday      0.011502  0.032721    0.021578  0.026900  \n",
       "workingday  -0.011830 -0.300942    0.134326  0.030284  \n",
       "weathersit   0.026226 -0.152628   -0.120966 -0.142426  \n",
       "temp        -0.023125  0.459616    0.335361  0.404772  \n",
       "atemp       -0.062336  0.454080    0.332559  0.400929  \n",
       "hum         -0.290105 -0.347028   -0.273933 -0.322911  \n",
       "windspeed    1.000000  0.090287    0.082321  0.093234  \n",
       "casual       0.090287  1.000000    0.506618  0.694564  \n",
       "registered   0.082321  0.506618    1.000000  0.972151  \n",
       "cnt          0.093234  0.694564    0.972151  1.000000  "
      ]
     },
     "execution_count": 8,
     "metadata": {},
     "output_type": "execute_result"
    }
   ],
   "source": [
    "# Checking correlation between variables (including target var to identify how features affect it) \n",
    "dataset.corr()"
   ]
  },
  {
   "cell_type": "markdown",
   "id": "d9c4f09b",
   "metadata": {},
   "source": [
    "---"
   ]
  },
  {
   "cell_type": "markdown",
   "id": "90c5acc9",
   "metadata": {},
   "source": [
    "Univariate Analysis"
   ]
  },
  {
   "cell_type": "code",
   "execution_count": null,
   "id": "29c25083",
   "metadata": {},
   "outputs": [],
   "source": [
    "# Relationship between Temperation and Count\n",
    "sns.lineplot(x='temp', y='cnt', data=dataset).set(xlabel=\"Temperature\", ylabel=\"Total Bikes Rented\")"
   ]
  },
  {
   "cell_type": "code",
   "execution_count": null,
   "id": "f97c7256",
   "metadata": {},
   "outputs": [],
   "source": [
    "# Relationship between Humidity and Count\n",
    "sns.lineplot(x='hum', y='cnt', data=dataset).set(xlabel=\"Humidity\", ylabel=\"Total Bikes Rented\")"
   ]
  },
  {
   "cell_type": "code",
   "execution_count": null,
   "id": "65c07e1a",
   "metadata": {},
   "outputs": [],
   "source": [
    "# Count of bikes rented per season\n",
    "sns.countplot(x='season', data=dataset).set(xlabel=\"Season\", ylabel=\"Total Bikes Rented\")\n",
    "dataset['season'].value_counts()"
   ]
  },
  {
   "cell_type": "code",
   "execution_count": null,
   "id": "d485ad6b",
   "metadata": {},
   "outputs": [],
   "source": [
    "# Count of bikes rented per year(2011, 2012)\n",
    "sns.violinplot(x='yr', y='cnt', data=dataset).set(xlabel=\"Year\", ylabel=\"Total Bikes Rented\")\n",
    "dataset['yr'].value_counts()"
   ]
  },
  {
   "cell_type": "code",
   "execution_count": null,
   "id": "0cdd6d20",
   "metadata": {},
   "outputs": [],
   "source": [
    "# Count of bikes rented per month\n",
    "plt.figure(figsize = (12,8))\n",
    "sns.barplot(x='mnth', y='cnt', data=dataset).set(xlabel=\"Month\", ylabel=\"Total Bikes Rented\")"
   ]
  },
  {
   "cell_type": "markdown",
   "id": "4aeef62b",
   "metadata": {},
   "source": [
    "---"
   ]
  },
  {
   "cell_type": "markdown",
   "id": "cf43fafb",
   "metadata": {},
   "source": [
    "Bivariate Analysis"
   ]
  },
  {
   "cell_type": "code",
   "execution_count": null,
   "id": "b7c24299",
   "metadata": {},
   "outputs": [],
   "source": [
    "# Bikes Rented vs Weather Condition with respect to the year\n",
    "sns.barplot(x=\"weathersit\", y=\"cnt\", hue=\"yr\", data=dataset).set(xlabel=\"Weather Condition\", ylabel=\"Total Bikes Rented\")\n",
    "# how to get count of bikes in each category and year??"
   ]
  },
  {
   "cell_type": "code",
   "execution_count": null,
   "id": "9f04565a",
   "metadata": {},
   "outputs": [],
   "source": [
    "# Bikes Rented vs Month with respect to the season\n",
    "plt.figure(figsize = (12,8))\n",
    "sns.barplot(x=\"workingday\", y=\"cnt\", hue=\"season\", data=dataset).set(xlabel=\"Working Day\", ylabel=\"Total Bikes Rented\")"
   ]
  },
  {
   "cell_type": "code",
   "execution_count": null,
   "id": "f804aef3",
   "metadata": {},
   "outputs": [],
   "source": [
    "# Bikes rented per hour with respect to a season\n",
    "plt.figure(figsize = (12,8))\n",
    "sns.pointplot(x=\"hr\", y=\"cnt\", hue=\"season\", data=dataset).set(xlabel=\"Hour\", ylabel=\"Total Bikes Rented\")"
   ]
  },
  {
   "cell_type": "markdown",
   "id": "dde0327e",
   "metadata": {},
   "source": [
    "- Peaks can be seen at around 8am and 5pm (office hours)"
   ]
  },
  {
   "cell_type": "markdown",
   "id": "68556533",
   "metadata": {},
   "source": [
    "---"
   ]
  },
  {
   "cell_type": "markdown",
   "id": "80e1efb3",
   "metadata": {},
   "source": [
    "Outlier Analysis"
   ]
  },
  {
   "cell_type": "code",
   "execution_count": null,
   "id": "8f8a6d4c",
   "metadata": {},
   "outputs": [],
   "source": [
    "# Outlier Analysis for month\n",
    "plt.figure(figsize = (20,8))\n",
    "sns.boxplot(data=dataset[['mnth', 'cnt']], x='mnth', y='cnt').set(xlabel=\"Month\", ylabel=\"Total Bikes Rented\")"
   ]
  },
  {
   "cell_type": "code",
   "execution_count": null,
   "id": "8e54899f",
   "metadata": {},
   "outputs": [],
   "source": [
    "# Outlier Analysis for hours\n",
    "plt.figure(figsize = (20,8))\n",
    "sns.boxplot(data=dataset[['hr', 'cnt']], x='hr', y='cnt').set(xlabel=\"Hour\", ylabel=\"Total Bikes Rented\")"
   ]
  },
  {
   "cell_type": "code",
   "execution_count": null,
   "id": "f2dac286",
   "metadata": {},
   "outputs": [],
   "source": [
    "# Outlier Analysis for cnt\n",
    "plt.figure(figsize = (8,6))\n",
    "sns.boxplot(data=dataset[['cnt']], y='cnt').set(ylabel=\"Total Bikes Rented\")"
   ]
  },
  {
   "cell_type": "code",
   "execution_count": 9,
   "id": "3117326f",
   "metadata": {},
   "outputs": [
    {
     "name": "stdout",
     "output_type": "stream",
     "text": [
      "Interquartile Range 241.0\n"
     ]
    }
   ],
   "source": [
    "# calculate interquartile range\n",
    "q25, q75 = np.percentile(dataset['cnt'], 25), np.percentile(dataset['cnt'], 75)\n",
    "iqr = q75 - q25\n",
    "print(\"Interquartile Range\", iqr)\n",
    "\n",
    "# calculate the outlier cutoff\n",
    "cut_off = iqr * 1.5\n",
    "lower = q25 - cut_off\n",
    "upper = 600"
   ]
  },
  {
   "cell_type": "code",
   "execution_count": 10,
   "id": "e0d55161",
   "metadata": {},
   "outputs": [
    {
     "name": "stdout",
     "output_type": "stream",
     "text": [
      "Identified outliers: 665\n"
     ]
    }
   ],
   "source": [
    "# identify outliers\n",
    "outliers = [x for x in dataset['cnt'] if x < lower or x > upper]\n",
    "print('Identified outliers: %d' % len(outliers))"
   ]
  },
  {
   "cell_type": "code",
   "execution_count": 11,
   "id": "2e258dbf",
   "metadata": {},
   "outputs": [
    {
     "data": {
      "text/html": [
       "<div>\n",
       "<style scoped>\n",
       "    .dataframe tbody tr th:only-of-type {\n",
       "        vertical-align: middle;\n",
       "    }\n",
       "\n",
       "    .dataframe tbody tr th {\n",
       "        vertical-align: top;\n",
       "    }\n",
       "\n",
       "    .dataframe thead th {\n",
       "        text-align: right;\n",
       "    }\n",
       "</style>\n",
       "<table border=\"1\" class=\"dataframe\">\n",
       "  <thead>\n",
       "    <tr style=\"text-align: right;\">\n",
       "      <th></th>\n",
       "      <th>instant</th>\n",
       "      <th>dteday</th>\n",
       "      <th>season</th>\n",
       "      <th>yr</th>\n",
       "      <th>mnth</th>\n",
       "      <th>hr</th>\n",
       "      <th>holiday</th>\n",
       "      <th>weekday</th>\n",
       "      <th>workingday</th>\n",
       "      <th>weathersit</th>\n",
       "      <th>temp</th>\n",
       "      <th>atemp</th>\n",
       "      <th>hum</th>\n",
       "      <th>windspeed</th>\n",
       "      <th>casual</th>\n",
       "      <th>registered</th>\n",
       "      <th>cnt</th>\n",
       "    </tr>\n",
       "  </thead>\n",
       "  <tbody>\n",
       "    <tr>\n",
       "      <th>3019</th>\n",
       "      <td>3020</td>\n",
       "      <td>2011-05-10</td>\n",
       "      <td>2</td>\n",
       "      <td>0</td>\n",
       "      <td>5</td>\n",
       "      <td>17</td>\n",
       "      <td>0</td>\n",
       "      <td>2</td>\n",
       "      <td>1</td>\n",
       "      <td>1</td>\n",
       "      <td>0.64</td>\n",
       "      <td>0.6212</td>\n",
       "      <td>0.33</td>\n",
       "      <td>0.0000</td>\n",
       "      <td>79</td>\n",
       "      <td>532</td>\n",
       "      <td>611</td>\n",
       "    </tr>\n",
       "    <tr>\n",
       "      <th>3187</th>\n",
       "      <td>3188</td>\n",
       "      <td>2011-05-17</td>\n",
       "      <td>2</td>\n",
       "      <td>0</td>\n",
       "      <td>5</td>\n",
       "      <td>17</td>\n",
       "      <td>0</td>\n",
       "      <td>2</td>\n",
       "      <td>1</td>\n",
       "      <td>1</td>\n",
       "      <td>0.62</td>\n",
       "      <td>0.6061</td>\n",
       "      <td>0.65</td>\n",
       "      <td>0.4179</td>\n",
       "      <td>83</td>\n",
       "      <td>521</td>\n",
       "      <td>604</td>\n",
       "    </tr>\n",
       "    <tr>\n",
       "      <th>3379</th>\n",
       "      <td>3380</td>\n",
       "      <td>2011-05-25</td>\n",
       "      <td>2</td>\n",
       "      <td>0</td>\n",
       "      <td>5</td>\n",
       "      <td>17</td>\n",
       "      <td>0</td>\n",
       "      <td>3</td>\n",
       "      <td>1</td>\n",
       "      <td>1</td>\n",
       "      <td>0.74</td>\n",
       "      <td>0.6667</td>\n",
       "      <td>0.51</td>\n",
       "      <td>0.2239</td>\n",
       "      <td>77</td>\n",
       "      <td>524</td>\n",
       "      <td>601</td>\n",
       "    </tr>\n",
       "    <tr>\n",
       "      <th>3835</th>\n",
       "      <td>3836</td>\n",
       "      <td>2011-06-13</td>\n",
       "      <td>2</td>\n",
       "      <td>0</td>\n",
       "      <td>6</td>\n",
       "      <td>17</td>\n",
       "      <td>0</td>\n",
       "      <td>1</td>\n",
       "      <td>1</td>\n",
       "      <td>1</td>\n",
       "      <td>0.70</td>\n",
       "      <td>0.6364</td>\n",
       "      <td>0.39</td>\n",
       "      <td>0.3284</td>\n",
       "      <td>72</td>\n",
       "      <td>529</td>\n",
       "      <td>601</td>\n",
       "    </tr>\n",
       "    <tr>\n",
       "      <th>3883</th>\n",
       "      <td>3884</td>\n",
       "      <td>2011-06-15</td>\n",
       "      <td>2</td>\n",
       "      <td>0</td>\n",
       "      <td>6</td>\n",
       "      <td>17</td>\n",
       "      <td>0</td>\n",
       "      <td>3</td>\n",
       "      <td>1</td>\n",
       "      <td>1</td>\n",
       "      <td>0.74</td>\n",
       "      <td>0.6515</td>\n",
       "      <td>0.28</td>\n",
       "      <td>0.1045</td>\n",
       "      <td>83</td>\n",
       "      <td>555</td>\n",
       "      <td>638</td>\n",
       "    </tr>\n",
       "    <tr>\n",
       "      <th>...</th>\n",
       "      <td>...</td>\n",
       "      <td>...</td>\n",
       "      <td>...</td>\n",
       "      <td>...</td>\n",
       "      <td>...</td>\n",
       "      <td>...</td>\n",
       "      <td>...</td>\n",
       "      <td>...</td>\n",
       "      <td>...</td>\n",
       "      <td>...</td>\n",
       "      <td>...</td>\n",
       "      <td>...</td>\n",
       "      <td>...</td>\n",
       "      <td>...</td>\n",
       "      <td>...</td>\n",
       "      <td>...</td>\n",
       "      <td>...</td>\n",
       "    </tr>\n",
       "    <tr>\n",
       "      <th>16933</th>\n",
       "      <td>16934</td>\n",
       "      <td>2012-12-13</td>\n",
       "      <td>4</td>\n",
       "      <td>1</td>\n",
       "      <td>12</td>\n",
       "      <td>8</td>\n",
       "      <td>0</td>\n",
       "      <td>4</td>\n",
       "      <td>1</td>\n",
       "      <td>1</td>\n",
       "      <td>0.24</td>\n",
       "      <td>0.2273</td>\n",
       "      <td>0.60</td>\n",
       "      <td>0.1940</td>\n",
       "      <td>24</td>\n",
       "      <td>655</td>\n",
       "      <td>679</td>\n",
       "    </tr>\n",
       "    <tr>\n",
       "      <th>16957</th>\n",
       "      <td>16958</td>\n",
       "      <td>2012-12-14</td>\n",
       "      <td>4</td>\n",
       "      <td>1</td>\n",
       "      <td>12</td>\n",
       "      <td>8</td>\n",
       "      <td>0</td>\n",
       "      <td>5</td>\n",
       "      <td>1</td>\n",
       "      <td>1</td>\n",
       "      <td>0.20</td>\n",
       "      <td>0.2273</td>\n",
       "      <td>0.69</td>\n",
       "      <td>0.0896</td>\n",
       "      <td>13</td>\n",
       "      <td>623</td>\n",
       "      <td>636</td>\n",
       "    </tr>\n",
       "    <tr>\n",
       "      <th>16966</th>\n",
       "      <td>16967</td>\n",
       "      <td>2012-12-14</td>\n",
       "      <td>4</td>\n",
       "      <td>1</td>\n",
       "      <td>12</td>\n",
       "      <td>17</td>\n",
       "      <td>0</td>\n",
       "      <td>5</td>\n",
       "      <td>1</td>\n",
       "      <td>1</td>\n",
       "      <td>0.34</td>\n",
       "      <td>0.3333</td>\n",
       "      <td>0.57</td>\n",
       "      <td>0.1642</td>\n",
       "      <td>40</td>\n",
       "      <td>582</td>\n",
       "      <td>622</td>\n",
       "    </tr>\n",
       "    <tr>\n",
       "      <th>17053</th>\n",
       "      <td>17054</td>\n",
       "      <td>2012-12-18</td>\n",
       "      <td>4</td>\n",
       "      <td>1</td>\n",
       "      <td>12</td>\n",
       "      <td>8</td>\n",
       "      <td>0</td>\n",
       "      <td>2</td>\n",
       "      <td>1</td>\n",
       "      <td>1</td>\n",
       "      <td>0.38</td>\n",
       "      <td>0.3939</td>\n",
       "      <td>0.94</td>\n",
       "      <td>0.0000</td>\n",
       "      <td>10</td>\n",
       "      <td>652</td>\n",
       "      <td>662</td>\n",
       "    </tr>\n",
       "    <tr>\n",
       "      <th>17077</th>\n",
       "      <td>17078</td>\n",
       "      <td>2012-12-19</td>\n",
       "      <td>4</td>\n",
       "      <td>1</td>\n",
       "      <td>12</td>\n",
       "      <td>8</td>\n",
       "      <td>0</td>\n",
       "      <td>3</td>\n",
       "      <td>1</td>\n",
       "      <td>1</td>\n",
       "      <td>0.24</td>\n",
       "      <td>0.2576</td>\n",
       "      <td>0.87</td>\n",
       "      <td>0.1045</td>\n",
       "      <td>13</td>\n",
       "      <td>665</td>\n",
       "      <td>678</td>\n",
       "    </tr>\n",
       "  </tbody>\n",
       "</table>\n",
       "<p>665 rows × 17 columns</p>\n",
       "</div>"
      ],
      "text/plain": [
       "       instant      dteday  season  yr  mnth  hr  holiday  weekday  \\\n",
       "3019      3020  2011-05-10       2   0     5  17        0        2   \n",
       "3187      3188  2011-05-17       2   0     5  17        0        2   \n",
       "3379      3380  2011-05-25       2   0     5  17        0        3   \n",
       "3835      3836  2011-06-13       2   0     6  17        0        1   \n",
       "3883      3884  2011-06-15       2   0     6  17        0        3   \n",
       "...        ...         ...     ...  ..   ...  ..      ...      ...   \n",
       "16933    16934  2012-12-13       4   1    12   8        0        4   \n",
       "16957    16958  2012-12-14       4   1    12   8        0        5   \n",
       "16966    16967  2012-12-14       4   1    12  17        0        5   \n",
       "17053    17054  2012-12-18       4   1    12   8        0        2   \n",
       "17077    17078  2012-12-19       4   1    12   8        0        3   \n",
       "\n",
       "       workingday  weathersit  temp   atemp   hum  windspeed  casual  \\\n",
       "3019            1           1  0.64  0.6212  0.33     0.0000      79   \n",
       "3187            1           1  0.62  0.6061  0.65     0.4179      83   \n",
       "3379            1           1  0.74  0.6667  0.51     0.2239      77   \n",
       "3835            1           1  0.70  0.6364  0.39     0.3284      72   \n",
       "3883            1           1  0.74  0.6515  0.28     0.1045      83   \n",
       "...           ...         ...   ...     ...   ...        ...     ...   \n",
       "16933           1           1  0.24  0.2273  0.60     0.1940      24   \n",
       "16957           1           1  0.20  0.2273  0.69     0.0896      13   \n",
       "16966           1           1  0.34  0.3333  0.57     0.1642      40   \n",
       "17053           1           1  0.38  0.3939  0.94     0.0000      10   \n",
       "17077           1           1  0.24  0.2576  0.87     0.1045      13   \n",
       "\n",
       "       registered  cnt  \n",
       "3019          532  611  \n",
       "3187          521  604  \n",
       "3379          524  601  \n",
       "3835          529  601  \n",
       "3883          555  638  \n",
       "...           ...  ...  \n",
       "16933         655  679  \n",
       "16957         623  636  \n",
       "16966         582  622  \n",
       "17053         652  662  \n",
       "17077         665  678  \n",
       "\n",
       "[665 rows x 17 columns]"
      ]
     },
     "execution_count": 11,
     "metadata": {},
     "output_type": "execute_result"
    }
   ],
   "source": [
    "dataset[(dataset['cnt'] < lower) | (dataset['cnt'] > upper)]"
   ]
  },
  {
   "cell_type": "code",
   "execution_count": 12,
   "id": "5bfdb164",
   "metadata": {},
   "outputs": [
    {
     "data": {
      "text/html": [
       "<div>\n",
       "<style scoped>\n",
       "    .dataframe tbody tr th:only-of-type {\n",
       "        vertical-align: middle;\n",
       "    }\n",
       "\n",
       "    .dataframe tbody tr th {\n",
       "        vertical-align: top;\n",
       "    }\n",
       "\n",
       "    .dataframe thead th {\n",
       "        text-align: right;\n",
       "    }\n",
       "</style>\n",
       "<table border=\"1\" class=\"dataframe\">\n",
       "  <thead>\n",
       "    <tr style=\"text-align: right;\">\n",
       "      <th></th>\n",
       "      <th>instant</th>\n",
       "      <th>dteday</th>\n",
       "      <th>season</th>\n",
       "      <th>yr</th>\n",
       "      <th>mnth</th>\n",
       "      <th>hr</th>\n",
       "      <th>holiday</th>\n",
       "      <th>weekday</th>\n",
       "      <th>workingday</th>\n",
       "      <th>weathersit</th>\n",
       "      <th>temp</th>\n",
       "      <th>atemp</th>\n",
       "      <th>hum</th>\n",
       "      <th>windspeed</th>\n",
       "      <th>casual</th>\n",
       "      <th>registered</th>\n",
       "      <th>cnt</th>\n",
       "    </tr>\n",
       "  </thead>\n",
       "  <tbody>\n",
       "    <tr>\n",
       "      <th>0</th>\n",
       "      <td>1</td>\n",
       "      <td>2011-01-01</td>\n",
       "      <td>1</td>\n",
       "      <td>0</td>\n",
       "      <td>1</td>\n",
       "      <td>0</td>\n",
       "      <td>0</td>\n",
       "      <td>6</td>\n",
       "      <td>0</td>\n",
       "      <td>1</td>\n",
       "      <td>0.24</td>\n",
       "      <td>0.2879</td>\n",
       "      <td>0.81</td>\n",
       "      <td>0.0</td>\n",
       "      <td>3</td>\n",
       "      <td>13</td>\n",
       "      <td>16</td>\n",
       "    </tr>\n",
       "    <tr>\n",
       "      <th>1</th>\n",
       "      <td>2</td>\n",
       "      <td>2011-01-01</td>\n",
       "      <td>1</td>\n",
       "      <td>0</td>\n",
       "      <td>1</td>\n",
       "      <td>1</td>\n",
       "      <td>0</td>\n",
       "      <td>6</td>\n",
       "      <td>0</td>\n",
       "      <td>1</td>\n",
       "      <td>0.22</td>\n",
       "      <td>0.2727</td>\n",
       "      <td>0.80</td>\n",
       "      <td>0.0</td>\n",
       "      <td>8</td>\n",
       "      <td>32</td>\n",
       "      <td>40</td>\n",
       "    </tr>\n",
       "    <tr>\n",
       "      <th>2</th>\n",
       "      <td>3</td>\n",
       "      <td>2011-01-01</td>\n",
       "      <td>1</td>\n",
       "      <td>0</td>\n",
       "      <td>1</td>\n",
       "      <td>2</td>\n",
       "      <td>0</td>\n",
       "      <td>6</td>\n",
       "      <td>0</td>\n",
       "      <td>1</td>\n",
       "      <td>0.22</td>\n",
       "      <td>0.2727</td>\n",
       "      <td>0.80</td>\n",
       "      <td>0.0</td>\n",
       "      <td>5</td>\n",
       "      <td>27</td>\n",
       "      <td>32</td>\n",
       "    </tr>\n",
       "    <tr>\n",
       "      <th>3</th>\n",
       "      <td>4</td>\n",
       "      <td>2011-01-01</td>\n",
       "      <td>1</td>\n",
       "      <td>0</td>\n",
       "      <td>1</td>\n",
       "      <td>3</td>\n",
       "      <td>0</td>\n",
       "      <td>6</td>\n",
       "      <td>0</td>\n",
       "      <td>1</td>\n",
       "      <td>0.24</td>\n",
       "      <td>0.2879</td>\n",
       "      <td>0.75</td>\n",
       "      <td>0.0</td>\n",
       "      <td>3</td>\n",
       "      <td>10</td>\n",
       "      <td>13</td>\n",
       "    </tr>\n",
       "    <tr>\n",
       "      <th>4</th>\n",
       "      <td>5</td>\n",
       "      <td>2011-01-01</td>\n",
       "      <td>1</td>\n",
       "      <td>0</td>\n",
       "      <td>1</td>\n",
       "      <td>4</td>\n",
       "      <td>0</td>\n",
       "      <td>6</td>\n",
       "      <td>0</td>\n",
       "      <td>1</td>\n",
       "      <td>0.24</td>\n",
       "      <td>0.2879</td>\n",
       "      <td>0.75</td>\n",
       "      <td>0.0</td>\n",
       "      <td>0</td>\n",
       "      <td>1</td>\n",
       "      <td>1</td>\n",
       "    </tr>\n",
       "  </tbody>\n",
       "</table>\n",
       "</div>"
      ],
      "text/plain": [
       "   instant      dteday  season  yr  mnth  hr  holiday  weekday  workingday  \\\n",
       "0        1  2011-01-01       1   0     1   0        0        6           0   \n",
       "1        2  2011-01-01       1   0     1   1        0        6           0   \n",
       "2        3  2011-01-01       1   0     1   2        0        6           0   \n",
       "3        4  2011-01-01       1   0     1   3        0        6           0   \n",
       "4        5  2011-01-01       1   0     1   4        0        6           0   \n",
       "\n",
       "   weathersit  temp   atemp   hum  windspeed  casual  registered  cnt  \n",
       "0           1  0.24  0.2879  0.81        0.0       3          13   16  \n",
       "1           1  0.22  0.2727  0.80        0.0       8          32   40  \n",
       "2           1  0.22  0.2727  0.80        0.0       5          27   32  \n",
       "3           1  0.24  0.2879  0.75        0.0       3          10   13  \n",
       "4           1  0.24  0.2879  0.75        0.0       0           1    1  "
      ]
     },
     "execution_count": 12,
     "metadata": {},
     "output_type": "execute_result"
    }
   ],
   "source": [
    "# Removing the Outliers\n",
    "dataset = dataset[(dataset['cnt'] > lower) & (dataset['cnt'] < upper)]\n",
    "\n",
    "dataset.head()"
   ]
  },
  {
   "cell_type": "code",
   "execution_count": 13,
   "id": "d9d4536c",
   "metadata": {},
   "outputs": [
    {
     "data": {
      "text/plain": [
       "16712"
      ]
     },
     "execution_count": 13,
     "metadata": {},
     "output_type": "execute_result"
    }
   ],
   "source": [
    "len(dataset.index)"
   ]
  },
  {
   "cell_type": "code",
   "execution_count": 14,
   "id": "544ded4c",
   "metadata": {},
   "outputs": [
    {
     "data": {
      "text/plain": [
       "[Text(0, 0.5, 'Total Bikes Rented')]"
      ]
     },
     "execution_count": 14,
     "metadata": {},
     "output_type": "execute_result"
    },
    {
     "data": {
      "image/png": "[encoded data removed]",
      "text/plain": [
       "<Figure size 576x432 with 1 Axes>"
      ]
     },
     "metadata": {
      "needs_background": "light"
     },
     "output_type": "display_data"
    }
   ],
   "source": [
    "# Outlier Analysis for cnt\n",
    "plt.figure(figsize = (8,6))\n",
    "sns.boxplot(data=dataset[['cnt']], y='cnt').set(ylabel=\"Total Bikes Rented\")"
   ]
  },
  {
   "cell_type": "markdown",
   "id": "87897e91",
   "metadata": {},
   "source": [
    "---"
   ]
  },
  {
   "cell_type": "markdown",
   "id": "e46dfc4d",
   "metadata": {},
   "source": [
    "Feature Transformation"
   ]
  },
  {
   "cell_type": "code",
   "execution_count": null,
   "id": "82c90eaf",
   "metadata": {},
   "outputs": [],
   "source": [
    "# Before dropping date, let us introduce a days_old variable which indicates how old is the business\n",
    "dataset['days_old'] = (pd.to_datetime(dataset['dteday'],format= '%Y-%m-%d') - pd.to_datetime('2011-01-01',format= '%Y-%m-%d')).dt.days"
   ]
  },
  {
   "cell_type": "code",
   "execution_count": null,
   "id": "c435eccc",
   "metadata": {},
   "outputs": [],
   "source": [
    "dataset.tail()"
   ]
  },
  {
   "cell_type": "code",
   "execution_count": null,
   "id": "5b7b4137",
   "metadata": {},
   "outputs": [],
   "source": [
    "# Dropping instant, dteday, casual, registered\n",
    "dataset = dataset.drop(['instant', 'dteday', 'casual', 'registered'], axis=1)"
   ]
  },
  {
   "cell_type": "code",
   "execution_count": null,
   "id": "2d0ad4d5",
   "metadata": {},
   "outputs": [],
   "source": [
    "# Convert season, weathersit, weekday and month to categorical data\n",
    "dataset.season = dataset.season.replace({1:\"spring\", 2:\"summer\", 3:\"fall\", 4:\"winter\"})\n",
    "\n",
    "dataset.weathersit = dataset.weathersit.replace({1:'good',2:'moderate',3:'bad',4:'severe'})\n",
    "\n",
    "dataset.mnth = dataset.mnth.replace({1: 'jan',2: 'feb',3: 'mar',4: 'apr',5: 'may',6: 'jun',\n",
    "                  7: 'jul',8: 'aug',9: 'sept',10: 'oct',11: 'nov',12: 'dec'})\n",
    "\n",
    "dataset.weekday = dataset.weekday.replace({0: 'sun',1: 'mon',2: 'tue',3: 'wed',4: 'thu',5: 'fri',6: 'sat'})"
   ]
  },
  {
   "cell_type": "code",
   "execution_count": null,
   "id": "74b1ba0f",
   "metadata": {},
   "outputs": [],
   "source": [
    "dataset.head()"
   ]
  },
  {
   "cell_type": "code",
   "execution_count": null,
   "id": "958b8ee8",
   "metadata": {},
   "outputs": [],
   "source": [
    "dataset.tail()"
   ]
  },
  {
   "cell_type": "code",
   "execution_count": null,
   "id": "c72e4987",
   "metadata": {},
   "outputs": [],
   "source": [
    "# One-hot encoding season, mnth, weekday, weathersit\n",
    "\n",
    "dataset = pd.get_dummies(data=dataset,columns=[\"season\",\"mnth\",\"weekday\", \"weathersit\"])"
   ]
  },
  {
   "cell_type": "code",
   "execution_count": null,
   "id": "7ce513b5",
   "metadata": {},
   "outputs": [],
   "source": [
    "dataset.head()"
   ]
  },
  {
   "cell_type": "code",
   "execution_count": null,
   "id": "a6007a60",
   "metadata": {},
   "outputs": [],
   "source": [
    "dataset.tail()"
   ]
  },
  {
   "cell_type": "markdown",
   "id": "a32f1895",
   "metadata": {},
   "source": [
    "---"
   ]
  },
  {
   "cell_type": "markdown",
   "id": "457fcad2",
   "metadata": {},
   "source": [
    "Model Development"
   ]
  },
  {
   "cell_type": "code",
   "execution_count": null,
   "id": "eb06750b",
   "metadata": {},
   "outputs": [],
   "source": [
    "working_dt = dataset"
   ]
  },
  {
   "cell_type": "code",
   "execution_count": null,
   "id": "fffb8e47",
   "metadata": {},
   "outputs": [],
   "source": [
    "y = working_dt.pop('cnt')\n",
    "y.head()"
   ]
  },
  {
   "cell_type": "code",
   "execution_count": null,
   "id": "bd4f773b",
   "metadata": {},
   "outputs": [],
   "source": [
    "X = working_dt\n",
    "X.head()"
   ]
  },
  {
   "cell_type": "code",
   "execution_count": null,
   "id": "b0c7fdc1",
   "metadata": {},
   "outputs": [],
   "source": [
    "# Train-Test Split\n",
    "X_train, X_test, y_train, y_test = train_test_split(X, y, test_size=0.2, random_state=42)"
   ]
  },
  {
   "cell_type": "code",
   "execution_count": null,
   "id": "6d9977d5",
   "metadata": {},
   "outputs": [],
   "source": [
    "X_train.head()"
   ]
  },
  {
   "cell_type": "code",
   "execution_count": null,
   "id": "00c2399e",
   "metadata": {},
   "outputs": [],
   "source": [
    "X_test.head()"
   ]
  },
  {
   "cell_type": "code",
   "execution_count": null,
   "id": "fffd1030",
   "metadata": {},
   "outputs": [],
   "source": [
    "y_train.head()"
   ]
  },
  {
   "cell_type": "code",
   "execution_count": null,
   "id": "d3232bae",
   "metadata": {},
   "outputs": [],
   "source": [
    "y_test.head()"
   ]
  },
  {
   "cell_type": "code",
   "execution_count": null,
   "id": "0fdef812",
   "metadata": {},
   "outputs": [],
   "source": [
    "import statsmodels.api as sm\n",
    "from statsmodels.stats.outliers_influence import variance_inflation_factor"
   ]
  },
  {
   "cell_type": "code",
   "execution_count": null,
   "id": "590db606",
   "metadata": {},
   "outputs": [],
   "source": [
    "# Function to build OLS model with columns as an input \n",
    "\n",
    "def build_ols_model(cols):\n",
    "    # adding the constant term\n",
    "    X_const = sm.add_constant(X_train[cols])\n",
    "    # performing the regression and fitting the model\n",
    "    result = sm.OLS(y_train, X_const).fit()\n",
    "    # printing result\n",
    "    print(result.summary())"
   ]
  },
  {
   "cell_type": "code",
   "execution_count": null,
   "id": "8312bec7",
   "metadata": {},
   "outputs": [],
   "source": [
    "# Function to plot color scaled correlation matrix (Checking Multicollinearity)\n",
    "def compute_correlation(cols):\n",
    "    plt.figure(figsize = (15,10))\n",
    "    corr = X[cols].corr()\n",
    "    sns.heatmap(corr, cmap='GnBu', annot=True)\n",
    "    plt.show()"
   ]
  },
  {
   "cell_type": "code",
   "execution_count": null,
   "id": "c4bb5c51",
   "metadata": {},
   "outputs": [],
   "source": [
    "# Function Compute VIF data for each independent variable in the X_const set (Checking Multicollinearity)\n",
    "\n",
    "def compute_vif(cols):\n",
    "    vif = pd.DataFrame()\n",
    "    vif[\"features\"] = X_train[cols].columns\n",
    "    vif[\"vif_Factor\"] = [variance_inflation_factor(X_train[cols].values, i) for i in range(X_train[cols].shape[1])]\n",
    "    print(vif.sort_values(by='vif_Factor', ascending = False))"
   ]
  },
  {
   "cell_type": "markdown",
   "id": "c25db206",
   "metadata": {},
   "source": [
    "---"
   ]
  },
  {
   "cell_type": "markdown",
   "id": "c424783a",
   "metadata": {},
   "source": [
    "Model Number 1: Taking all independent features\n",
    "\n"
   ]
  },
  {
   "cell_type": "code",
   "execution_count": null,
   "id": "88e4a17a",
   "metadata": {},
   "outputs": [],
   "source": [
    "cols = X_train.columns\n",
    "print(cols)"
   ]
  },
  {
   "cell_type": "code",
   "execution_count": null,
   "id": "2f2a3a02",
   "metadata": {},
   "outputs": [],
   "source": [
    "# Build OLS model 1\n",
    "build_ols_model(cols)"
   ]
  },
  {
   "cell_type": "code",
   "execution_count": null,
   "id": "76fc8927",
   "metadata": {},
   "outputs": [],
   "source": [
    "# Compute correlation matrix for model 1\n",
    "compute_correlation(cols)"
   ]
  },
  {
   "cell_type": "code",
   "execution_count": null,
   "id": "f4571623",
   "metadata": {},
   "outputs": [],
   "source": [
    "# Compute Vif for model 1\n",
    "compute_vif(cols)"
   ]
  },
  {
   "cell_type": "markdown",
   "id": "0423a3bd",
   "metadata": {},
   "source": [
    "---"
   ]
  },
  {
   "cell_type": "code",
   "execution_count": null,
   "id": "243e22a9",
   "metadata": {},
   "outputs": [],
   "source": [
    "# Using RFE (Recursive Feature Extraction) to select best 15 features\n",
    "\n",
    "from sklearn.linear_model import LinearRegression\n",
    "from sklearn.feature_selection import RFE\n",
    "\n",
    "lr = LinearRegression()\n",
    "lr.fit(X_train, y_train)\n",
    "\n",
    "rfe = RFE(lr, 21)\n",
    "rfe.fit(X_train, y_train)"
   ]
  },
  {
   "cell_type": "code",
   "execution_count": null,
   "id": "999ea1e3",
   "metadata": {},
   "outputs": [],
   "source": [
    "# Features selected by RFE\n",
    "X_train.columns[rfe.support_]"
   ]
  },
  {
   "cell_type": "markdown",
   "id": "e0f0a140",
   "metadata": {},
   "source": [
    "---"
   ]
  },
  {
   "cell_type": "markdown",
   "id": "cb3a8c87",
   "metadata": {},
   "source": [
    "Model 2: Taking features selected by RFE"
   ]
  },
  {
   "cell_type": "code",
   "execution_count": null,
   "id": "746a885d",
   "metadata": {},
   "outputs": [],
   "source": [
    "cols = X_train.columns[rfe.support_]\n",
    "print(cols)"
   ]
  },
  {
   "cell_type": "code",
   "execution_count": null,
   "id": "5a2f0074",
   "metadata": {},
   "outputs": [],
   "source": [
    "# Build OLS model 2\n",
    "build_ols_model(cols)"
   ]
  },
  {
   "cell_type": "code",
   "execution_count": null,
   "id": "ce930b5b",
   "metadata": {},
   "outputs": [],
   "source": [
    "# Compute correlation matrix for model 2\n",
    "compute_correlation(cols)"
   ]
  },
  {
   "cell_type": "code",
   "execution_count": null,
   "id": "df13001f",
   "metadata": {},
   "outputs": [],
   "source": [
    "# Compute Vif for model 2\n",
    "compute_vif(cols)"
   ]
  },
  {
   "cell_type": "markdown",
   "id": "9f696ac5",
   "metadata": {},
   "source": [
    "---"
   ]
  },
  {
   "cell_type": "markdown",
   "id": "b8932dcb",
   "metadata": {},
   "source": [
    "Model 3: Dropping atemp"
   ]
  },
  {
   "cell_type": "code",
   "execution_count": null,
   "id": "f640f5a3",
   "metadata": {},
   "outputs": [],
   "source": [
    "cols = ['yr', 'holiday', 'temp', 'hum', 'windspeed', 'season_spring',\n",
    "       'season_winter', 'mnth_aug', 'mnth_dec', 'mnth_feb', 'mnth_jan',\n",
    "       'mnth_jul', 'mnth_jun', 'weathersit_severe']\n",
    "print(cols)"
   ]
  },
  {
   "cell_type": "code",
   "execution_count": null,
   "id": "a762903e",
   "metadata": {},
   "outputs": [],
   "source": [
    "# Build OLS model 3\n",
    "build_ols_model(cols)"
   ]
  },
  {
   "cell_type": "code",
   "execution_count": null,
   "id": "dadd55bf",
   "metadata": {},
   "outputs": [],
   "source": [
    "# Compute correlation matrix for model 3\n",
    "compute_correlation(cols)"
   ]
  },
  {
   "cell_type": "code",
   "execution_count": null,
   "id": "b756a51f",
   "metadata": {},
   "outputs": [],
   "source": [
    "# Compute Vif for model 3\n",
    "compute_vif(cols)"
   ]
  },
  {
   "cell_type": "markdown",
   "id": "3eb8e075",
   "metadata": {},
   "source": [
    "---"
   ]
  },
  {
   "cell_type": "markdown",
   "id": "bafd8363",
   "metadata": {},
   "source": [
    "Model 4: Dropping weathersit_severe"
   ]
  },
  {
   "cell_type": "code",
   "execution_count": null,
   "id": "af5ccf29",
   "metadata": {},
   "outputs": [],
   "source": [
    "cols = ['yr', 'holiday', 'temp', 'hum', 'windspeed', 'season_spring',\n",
    "       'season_winter', 'mnth_aug', 'mnth_dec', 'mnth_feb', 'mnth_jan',\n",
    "       'mnth_jul', 'mnth_jun']\n",
    "print(cols)"
   ]
  },
  {
   "cell_type": "code",
   "execution_count": null,
   "id": "f32aa3fb",
   "metadata": {},
   "outputs": [],
   "source": [
    "# Build OLS model 4\n",
    "build_ols_model(cols)"
   ]
  },
  {
   "cell_type": "code",
   "execution_count": null,
   "id": "b28717b5",
   "metadata": {},
   "outputs": [],
   "source": [
    "# Compute correlation matrix for model 4\n",
    "compute_correlation(cols)"
   ]
  },
  {
   "cell_type": "code",
   "execution_count": null,
   "id": "d527dcb6",
   "metadata": {},
   "outputs": [],
   "source": [
    "# Compute Vif for model 4\n",
    "compute_vif(cols)"
   ]
  },
  {
   "cell_type": "markdown",
   "id": "921452b0",
   "metadata": {},
   "source": [
    "---"
   ]
  },
  {
   "cell_type": "markdown",
   "id": "2b131468",
   "metadata": {},
   "source": [
    "Model 5: Including workingday"
   ]
  },
  {
   "cell_type": "code",
   "execution_count": null,
   "id": "16de3463",
   "metadata": {},
   "outputs": [],
   "source": [
    "cols = ['yr', 'holiday', 'temp', 'hum', 'windspeed', 'season_spring',\n",
    "       'season_winter', 'mnth_aug', 'mnth_dec', 'mnth_feb', 'mnth_jan',\n",
    "       'mnth_jul', 'mnth_jun', 'weathersit_severe', 'workingday']\n",
    "print(cols)"
   ]
  },
  {
   "cell_type": "code",
   "execution_count": null,
   "id": "d221e65d",
   "metadata": {},
   "outputs": [],
   "source": [
    "# Build OLS model 5\n",
    "build_ols_model(cols)"
   ]
  },
  {
   "cell_type": "code",
   "execution_count": null,
   "id": "2f0ca206",
   "metadata": {},
   "outputs": [],
   "source": [
    "# Compute correlation matrix for model 5\n",
    "compute_correlation(cols)"
   ]
  },
  {
   "cell_type": "code",
   "execution_count": null,
   "id": "c3bdae0f",
   "metadata": {},
   "outputs": [],
   "source": [
    "# Compute Vif for model 5\n",
    "compute_vif(cols)"
   ]
  },
  {
   "cell_type": "markdown",
   "id": "0665a575",
   "metadata": {},
   "source": [
    "---"
   ]
  },
  {
   "cell_type": "markdown",
   "id": "52f52b30",
   "metadata": {},
   "source": [
    "Model 6: Including days_old"
   ]
  },
  {
   "cell_type": "code",
   "execution_count": null,
   "id": "d8f8f4ab",
   "metadata": {},
   "outputs": [],
   "source": [
    "cols = ['yr', 'holiday', 'temp', 'hum', 'windspeed', 'season_spring',\n",
    "       'season_winter', 'mnth_aug', 'mnth_dec', 'mnth_feb', 'mnth_jan',\n",
    "       'mnth_jul', 'mnth_jun', 'weathersit_severe', 'workingday', 'days_old']\n",
    "print(cols)"
   ]
  },
  {
   "cell_type": "code",
   "execution_count": null,
   "id": "e3e4ac92",
   "metadata": {},
   "outputs": [],
   "source": [
    "# Build OLS model 6\n",
    "build_ols_model(cols)"
   ]
  },
  {
   "cell_type": "code",
   "execution_count": null,
   "id": "f871ed7d",
   "metadata": {},
   "outputs": [],
   "source": [
    "# Compute correlation matrix for model 6\n",
    "compute_correlation(cols)"
   ]
  },
  {
   "cell_type": "code",
   "execution_count": null,
   "id": "35882b4b",
   "metadata": {},
   "outputs": [],
   "source": [
    "# Compute Vif for model 6\n",
    "compute_vif(cols)"
   ]
  },
  {
   "cell_type": "markdown",
   "id": "08014cb4",
   "metadata": {},
   "source": [
    "---"
   ]
  },
  {
   "cell_type": "markdown",
   "id": "c220f565",
   "metadata": {},
   "source": [
    "Drawbacks of each model:"
   ]
  },
  {
   "cell_type": "code",
   "execution_count": null,
   "id": "ec8dec0b",
   "metadata": {},
   "outputs": [],
   "source": [
    "# Model 1,2,6- Multicollinearity\n",
    "# Model 3,5- Presence of workinday which has a P|t|>0.05 which shows the irrelevance of the feature to the target variable\n",
    "# Therefore, we will choose Model 4 goiong forward"
   ]
  },
  {
   "cell_type": "code",
   "execution_count": null,
   "id": "bd236815",
   "metadata": {},
   "outputs": [],
   "source": [
    "cols = ['yr', 'holiday', 'temp', 'hum', 'windspeed', 'season_spring',\n",
    "       'season_winter', 'mnth_aug', 'mnth_dec', 'mnth_feb', 'mnth_jan',\n",
    "       'mnth_jul', 'mnth_jun']\n",
    "print(cols)"
   ]
  },
  {
   "cell_type": "code",
   "execution_count": null,
   "id": "f52a0172",
   "metadata": {},
   "outputs": [],
   "source": [
    "lr1 = LinearRegression()\n",
    "reg_result = lr1.fit(X_train[cols],y_train)\n",
    "print(reg_result.intercept_, reg_result.coef_)"
   ]
  },
  {
   "cell_type": "markdown",
   "id": "2446b61b",
   "metadata": {},
   "source": [
    "---"
   ]
  },
  {
   "cell_type": "markdown",
   "id": "23549d50",
   "metadata": {},
   "source": [
    "Model Evaluation"
   ]
  },
  {
   "cell_type": "code",
   "execution_count": null,
   "id": "f5a11e1e",
   "metadata": {},
   "outputs": [],
   "source": [
    "working_dt['cnt'] = y\n",
    "working_dt.head()"
   ]
  },
  {
   "cell_type": "markdown",
   "id": "1ecc42bc",
   "metadata": {},
   "source": [
    "- Linearity"
   ]
  },
  {
   "cell_type": "code",
   "execution_count": null,
   "id": "e8bdfd8d",
   "metadata": {},
   "outputs": [],
   "source": [
    "# visualize the relationship between the features and the response using scatterplots\n",
    "p = sns.pairplot(dataset, x_vars=['yr', 'holiday', 'temp', 'hum', 'windspeed', 'season_spring',\n",
    "       'season_winter', 'mnth_aug', 'mnth_dec', 'mnth_feb', 'mnth_jan',\n",
    "       'mnth_jul', 'mnth_jun'], y_vars='cnt', size=10, aspect=0.7)"
   ]
  },
  {
   "cell_type": "markdown",
   "id": "46fc23ae",
   "metadata": {},
   "source": [
    "- Mean of Residuals"
   ]
  },
  {
   "cell_type": "code",
   "execution_count": null,
   "id": "05ea6824",
   "metadata": {},
   "outputs": [],
   "source": [
    "y_train_pred = lr1.predict(X_train[cols])"
   ]
  },
  {
   "cell_type": "code",
   "execution_count": null,
   "id": "d4f25832",
   "metadata": {},
   "outputs": [],
   "source": [
    "residuals = y_train.values-y_train_pred\n",
    "mean_residuals = np.mean(residuals)\n",
    "print(\"Mean of Residuals {}\".format(mean_residuals))"
   ]
  },
  {
   "cell_type": "markdown",
   "id": "cee0e7f9",
   "metadata": {},
   "source": [
    "- Check for Homoscedasticity"
   ]
  },
  {
   "cell_type": "code",
   "execution_count": null,
   "id": "d9661432",
   "metadata": {},
   "outputs": [],
   "source": [
    "p = sns.scatterplot(y_train_pred,residuals)\n",
    "plt.xlabel('Predicted values of y_train')\n",
    "plt.ylabel('Residuals')\n",
    "plt.ylim(-10,10)\n",
    "plt.xlim(0,26)\n",
    "p = sns.lineplot([0,26],[0,0],color='blue')\n",
    "p = plt.title('Residuals vs fitted values plot for homoscedasticity check')"
   ]
  },
  {
   "cell_type": "code",
   "execution_count": null,
   "id": "040d0eab",
   "metadata": {},
   "outputs": [],
   "source": [
    "# Checking heteroscedasticity : Using Goldfeld Quandt we test for heteroscedasticity.\n",
    "# Null Hypothesis: Error terms are homoscedastic\n",
    "# Alternative Hypothesis: Error terms are heteroscedastic.\n",
    "\n",
    "# from statsmodels.compat import lzip\n",
    "\n",
    "# name = ['F statistic', 'p-value']\n",
    "# test = sm.het_goldfeldquandt(residuals, X_train)\n",
    "# lzip(name, test)"
   ]
  },
  {
   "cell_type": "markdown",
   "id": "f9a6f009",
   "metadata": {},
   "source": [
    "- Normality of Errors"
   ]
  },
  {
   "cell_type": "code",
   "execution_count": null,
   "id": "045ac5c7",
   "metadata": {},
   "outputs": [],
   "source": [
    "p = sns.distplot(residuals,kde=True)\n",
    "p = plt.title('Normality of error terms/residuals')"
   ]
  },
  {
   "cell_type": "markdown",
   "id": "d5fc1ddf",
   "metadata": {},
   "source": [
    "- No autocorrelation of residuals"
   ]
  },
  {
   "cell_type": "code",
   "execution_count": null,
   "id": "7648fe32",
   "metadata": {},
   "outputs": [],
   "source": [
    "plt.figure(figsize=(10,5))\n",
    "p = sns.lineplot(y_train_pred,residuals,marker='o',color='blue')\n",
    "plt.xlabel('Predicted values of y_train')\n",
    "plt.ylabel('Residuals')\n",
    "plt.ylim(-100,100)\n",
    "plt.xlim(0,26)\n",
    "p = sns.lineplot([0,26],[0,0],color='red')\n",
    "p = plt.title('Residuals vs fitted values plot for autocorrelation check')"
   ]
  },
  {
   "cell_type": "markdown",
   "id": "9559e881",
   "metadata": {},
   "source": [
    "---"
   ]
  },
  {
   "cell_type": "code",
   "execution_count": null,
   "id": "8d0c2edf",
   "metadata": {},
   "outputs": [],
   "source": [
    "from sklearn.metrics import r2_score"
   ]
  },
  {
   "cell_type": "code",
   "execution_count": null,
   "id": "fc9b071b",
   "metadata": {},
   "outputs": [],
   "source": [
    "#Print R-squared Value\n",
    "r2_score(y_train,y_train_pred)"
   ]
  },
  {
   "cell_type": "code",
   "execution_count": null,
   "id": "ac889060",
   "metadata": {},
   "outputs": [],
   "source": [
    "#Predict the values for test data\n",
    "y_test_pred = lr1.predict(X_test[cols])"
   ]
  },
  {
   "cell_type": "code",
   "execution_count": null,
   "id": "f3b2afc1",
   "metadata": {},
   "outputs": [],
   "source": [
    "# Find out the R squared value between test and predicted test data sets.  \n",
    "r2_score(y_test,y_test_pred)"
   ]
  },
  {
   "cell_type": "code",
   "execution_count": null,
   "id": "8c299315",
   "metadata": {},
   "outputs": [],
   "source": [
    "from sklearn.metrics import mean_squared_error"
   ]
  },
  {
   "cell_type": "code",
   "execution_count": null,
   "id": "2f0beedf",
   "metadata": {},
   "outputs": [],
   "source": [
    "mse = mean_squared_error(y_test, y_test_pred)"
   ]
  },
  {
   "cell_type": "code",
   "execution_count": null,
   "id": "7e1de97e",
   "metadata": {},
   "outputs": [],
   "source": [
    "import math\n",
    "\n",
    "rmse = math.sqrt(mse)\n",
    "print(rmse)"
   ]
  },
  {
   "cell_type": "code",
   "execution_count": null,
   "id": "47305398",
   "metadata": {},
   "outputs": [],
   "source": []
  }
 ],
 "metadata": {
  "kernelspec": {
   "display_name": "Python 3",
   "language": "python",
   "name": "python3"
  },
  "language_info": {
   "codemirror_mode": {
    "name": "ipython",
    "version": 3
   },
   "file_extension": ".py",
   "mimetype": "text/x-python",
   "name": "python",
   "nbconvert_exporter": "python",
   "pygments_lexer": "ipython3",
   "version": "3.8.8"
  }
 },
 "nbformat": 4,
 "nbformat_minor": 5
}
